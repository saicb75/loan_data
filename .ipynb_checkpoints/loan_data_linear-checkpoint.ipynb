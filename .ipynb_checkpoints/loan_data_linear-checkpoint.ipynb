{
 "cells": [
  {
   "cell_type": "markdown",
   "metadata": {
    "id": "87Jze5JKTmrw"
   },
   "source": [
    "# Linear Regression "
   ]
  },
  {
   "cell_type": "code",
   "execution_count": 1,
   "metadata": {
    "id": "ChmyoDq4Tmr2"
   },
   "outputs": [],
   "source": [
    "import pandas as pd \n",
    "import numpy as np\n",
    "import seaborn as sns\n",
    "\n",
    "import matplotlib.pyplot as plt"
   ]
  },
  {
   "cell_type": "code",
   "execution_count": 2,
   "metadata": {
    "id": "vXOq3AcITmr3"
   },
   "outputs": [],
   "source": [
    "train_file='datasets/loan_data_train.csv'\n",
    "test_file='datasets/loan_data_test.csv'\n",
    "\n",
    "ld_train=pd.read_csv(train_file)\n",
    "ld_test=pd.read_csv(test_file)               "
   ]
  },
  {
   "cell_type": "code",
   "execution_count": 3,
   "metadata": {
    "colab": {
     "base_uri": "https://localhost:8080/",
     "height": 224
    },
    "id": "MAJZvW7STmr3",
    "outputId": "162820b3-03fd-4df1-a7db-02cbb446c0c2"
   },
   "outputs": [
    {
     "data": {
      "text/html": [
       "<div>\n",
       "<style scoped>\n",
       "    .dataframe tbody tr th:only-of-type {\n",
       "        vertical-align: middle;\n",
       "    }\n",
       "\n",
       "    .dataframe tbody tr th {\n",
       "        vertical-align: top;\n",
       "    }\n",
       "\n",
       "    .dataframe thead th {\n",
       "        text-align: right;\n",
       "    }\n",
       "</style>\n",
       "<table border=\"1\" class=\"dataframe\">\n",
       "  <thead>\n",
       "    <tr style=\"text-align: right;\">\n",
       "      <th></th>\n",
       "      <th>ID</th>\n",
       "      <th>Amount.Requested</th>\n",
       "      <th>Amount.Funded.By.Investors</th>\n",
       "      <th>Interest.Rate</th>\n",
       "      <th>Loan.Length</th>\n",
       "      <th>Loan.Purpose</th>\n",
       "      <th>Debt.To.Income.Ratio</th>\n",
       "      <th>State</th>\n",
       "      <th>Home.Ownership</th>\n",
       "      <th>Monthly.Income</th>\n",
       "      <th>FICO.Range</th>\n",
       "      <th>Open.CREDIT.Lines</th>\n",
       "      <th>Revolving.CREDIT.Balance</th>\n",
       "      <th>Inquiries.in.the.Last.6.Months</th>\n",
       "      <th>Employment.Length</th>\n",
       "    </tr>\n",
       "  </thead>\n",
       "  <tbody>\n",
       "    <tr>\n",
       "      <th>0</th>\n",
       "      <td>79542.0</td>\n",
       "      <td>25000</td>\n",
       "      <td>25000</td>\n",
       "      <td>18.49%</td>\n",
       "      <td>60 months</td>\n",
       "      <td>debt_consolidation</td>\n",
       "      <td>27.56%</td>\n",
       "      <td>VA</td>\n",
       "      <td>MORTGAGE</td>\n",
       "      <td>8606.56</td>\n",
       "      <td>720-724</td>\n",
       "      <td>11</td>\n",
       "      <td>15210</td>\n",
       "      <td>3.0</td>\n",
       "      <td>5 years</td>\n",
       "    </tr>\n",
       "    <tr>\n",
       "      <th>1</th>\n",
       "      <td>75473.0</td>\n",
       "      <td>19750</td>\n",
       "      <td>19750</td>\n",
       "      <td>17.27%</td>\n",
       "      <td>60 months</td>\n",
       "      <td>debt_consolidation</td>\n",
       "      <td>13.39%</td>\n",
       "      <td>NY</td>\n",
       "      <td>MORTGAGE</td>\n",
       "      <td>6737.50</td>\n",
       "      <td>710-714</td>\n",
       "      <td>14</td>\n",
       "      <td>19070</td>\n",
       "      <td>3.0</td>\n",
       "      <td>4 years</td>\n",
       "    </tr>\n",
       "    <tr>\n",
       "      <th>2</th>\n",
       "      <td>67265.0</td>\n",
       "      <td>2100</td>\n",
       "      <td>2100</td>\n",
       "      <td>14.33%</td>\n",
       "      <td>36 months</td>\n",
       "      <td>major_purchase</td>\n",
       "      <td>3.50%</td>\n",
       "      <td>LA</td>\n",
       "      <td>OWN</td>\n",
       "      <td>1000.00</td>\n",
       "      <td>690-694</td>\n",
       "      <td>13</td>\n",
       "      <td>893</td>\n",
       "      <td>1.0</td>\n",
       "      <td>&lt; 1 year</td>\n",
       "    </tr>\n",
       "    <tr>\n",
       "      <th>3</th>\n",
       "      <td>80167.0</td>\n",
       "      <td>28000</td>\n",
       "      <td>28000</td>\n",
       "      <td>16.29%</td>\n",
       "      <td>36 months</td>\n",
       "      <td>credit_card</td>\n",
       "      <td>19.62%</td>\n",
       "      <td>NV</td>\n",
       "      <td>MORTGAGE</td>\n",
       "      <td>7083.33</td>\n",
       "      <td>710-714</td>\n",
       "      <td>12</td>\n",
       "      <td>38194</td>\n",
       "      <td>1.0</td>\n",
       "      <td>10+ years</td>\n",
       "    </tr>\n",
       "    <tr>\n",
       "      <th>4</th>\n",
       "      <td>17240.0</td>\n",
       "      <td>24250</td>\n",
       "      <td>17431.82</td>\n",
       "      <td>12.23%</td>\n",
       "      <td>60 months</td>\n",
       "      <td>credit_card</td>\n",
       "      <td>23.79%</td>\n",
       "      <td>OH</td>\n",
       "      <td>MORTGAGE</td>\n",
       "      <td>5833.33</td>\n",
       "      <td>730-734</td>\n",
       "      <td>6</td>\n",
       "      <td>31061</td>\n",
       "      <td>2.0</td>\n",
       "      <td>10+ years</td>\n",
       "    </tr>\n",
       "  </tbody>\n",
       "</table>\n",
       "</div>"
      ],
      "text/plain": [
       "        ID Amount.Requested Amount.Funded.By.Investors Interest.Rate  \\\n",
       "0  79542.0            25000                      25000        18.49%   \n",
       "1  75473.0            19750                      19750        17.27%   \n",
       "2  67265.0             2100                       2100        14.33%   \n",
       "3  80167.0            28000                      28000        16.29%   \n",
       "4  17240.0            24250                   17431.82        12.23%   \n",
       "\n",
       "  Loan.Length        Loan.Purpose Debt.To.Income.Ratio State Home.Ownership  \\\n",
       "0   60 months  debt_consolidation               27.56%    VA       MORTGAGE   \n",
       "1   60 months  debt_consolidation               13.39%    NY       MORTGAGE   \n",
       "2   36 months      major_purchase                3.50%    LA            OWN   \n",
       "3   36 months         credit_card               19.62%    NV       MORTGAGE   \n",
       "4   60 months         credit_card               23.79%    OH       MORTGAGE   \n",
       "\n",
       "   Monthly.Income FICO.Range Open.CREDIT.Lines Revolving.CREDIT.Balance  \\\n",
       "0         8606.56    720-724                11                    15210   \n",
       "1         6737.50    710-714                14                    19070   \n",
       "2         1000.00    690-694                13                      893   \n",
       "3         7083.33    710-714                12                    38194   \n",
       "4         5833.33    730-734                 6                    31061   \n",
       "\n",
       "   Inquiries.in.the.Last.6.Months Employment.Length  \n",
       "0                             3.0           5 years  \n",
       "1                             3.0           4 years  \n",
       "2                             1.0          < 1 year  \n",
       "3                             1.0         10+ years  \n",
       "4                             2.0         10+ years  "
      ]
     },
     "execution_count": 3,
     "metadata": {},
     "output_type": "execute_result"
    }
   ],
   "source": [
    "#### Objective: Given the features about the applicant and the loan itself can we predict the rate of interest for the loan \n",
    "#### objective : Supervised machine learning algorithm, regression problem -- Linear Regression\n",
    "ld_train.head()"
   ]
  },
  {
   "cell_type": "code",
   "execution_count": 4,
   "metadata": {
    "colab": {
     "base_uri": "https://localhost:8080/",
     "height": 224
    },
    "id": "cKebnjCYTmr4",
    "outputId": "5883f8e2-2951-450e-cf90-9b9673fa3f4e"
   },
   "outputs": [
    {
     "data": {
      "text/html": [
       "<div>\n",
       "<style scoped>\n",
       "    .dataframe tbody tr th:only-of-type {\n",
       "        vertical-align: middle;\n",
       "    }\n",
       "\n",
       "    .dataframe tbody tr th {\n",
       "        vertical-align: top;\n",
       "    }\n",
       "\n",
       "    .dataframe thead th {\n",
       "        text-align: right;\n",
       "    }\n",
       "</style>\n",
       "<table border=\"1\" class=\"dataframe\">\n",
       "  <thead>\n",
       "    <tr style=\"text-align: right;\">\n",
       "      <th></th>\n",
       "      <th>ID</th>\n",
       "      <th>Amount.Requested</th>\n",
       "      <th>Amount.Funded.By.Investors</th>\n",
       "      <th>Loan.Length</th>\n",
       "      <th>Loan.Purpose</th>\n",
       "      <th>Debt.To.Income.Ratio</th>\n",
       "      <th>State</th>\n",
       "      <th>Home.Ownership</th>\n",
       "      <th>Monthly.Income</th>\n",
       "      <th>FICO.Range</th>\n",
       "      <th>Open.CREDIT.Lines</th>\n",
       "      <th>Revolving.CREDIT.Balance</th>\n",
       "      <th>Inquiries.in.the.Last.6.Months</th>\n",
       "      <th>Employment.Length</th>\n",
       "    </tr>\n",
       "  </thead>\n",
       "  <tbody>\n",
       "    <tr>\n",
       "      <th>0</th>\n",
       "      <td>20093</td>\n",
       "      <td>5000</td>\n",
       "      <td>5000</td>\n",
       "      <td>60 months</td>\n",
       "      <td>moving</td>\n",
       "      <td>12.59%</td>\n",
       "      <td>NY</td>\n",
       "      <td>RENT</td>\n",
       "      <td>4416.67</td>\n",
       "      <td>690-694</td>\n",
       "      <td>13</td>\n",
       "      <td>7686</td>\n",
       "      <td>0</td>\n",
       "      <td>&lt; 1 year</td>\n",
       "    </tr>\n",
       "    <tr>\n",
       "      <th>1</th>\n",
       "      <td>62445</td>\n",
       "      <td>18000</td>\n",
       "      <td>18000</td>\n",
       "      <td>60 months</td>\n",
       "      <td>debt_consolidation</td>\n",
       "      <td>4.93%</td>\n",
       "      <td>CA</td>\n",
       "      <td>RENT</td>\n",
       "      <td>5258.50</td>\n",
       "      <td>710-714</td>\n",
       "      <td>6</td>\n",
       "      <td>11596</td>\n",
       "      <td>0</td>\n",
       "      <td>10+ years</td>\n",
       "    </tr>\n",
       "    <tr>\n",
       "      <th>2</th>\n",
       "      <td>65248</td>\n",
       "      <td>7200</td>\n",
       "      <td>7200</td>\n",
       "      <td>60 months</td>\n",
       "      <td>debt_consolidation</td>\n",
       "      <td>25.16%</td>\n",
       "      <td>LA</td>\n",
       "      <td>MORTGAGE</td>\n",
       "      <td>3750.00</td>\n",
       "      <td>750-754</td>\n",
       "      <td>13</td>\n",
       "      <td>7283</td>\n",
       "      <td>0</td>\n",
       "      <td>6 years</td>\n",
       "    </tr>\n",
       "    <tr>\n",
       "      <th>3</th>\n",
       "      <td>81822</td>\n",
       "      <td>7200</td>\n",
       "      <td>7200</td>\n",
       "      <td>36 months</td>\n",
       "      <td>debt_consolidation</td>\n",
       "      <td>17.27%</td>\n",
       "      <td>NY</td>\n",
       "      <td>MORTGAGE</td>\n",
       "      <td>3416.67</td>\n",
       "      <td>790-794</td>\n",
       "      <td>14</td>\n",
       "      <td>4838</td>\n",
       "      <td>0</td>\n",
       "      <td>10+ years</td>\n",
       "    </tr>\n",
       "    <tr>\n",
       "      <th>4</th>\n",
       "      <td>57923</td>\n",
       "      <td>22000</td>\n",
       "      <td>22000</td>\n",
       "      <td>60 months</td>\n",
       "      <td>debt_consolidation</td>\n",
       "      <td>18.28%</td>\n",
       "      <td>MI</td>\n",
       "      <td>MORTGAGE</td>\n",
       "      <td>6083.33</td>\n",
       "      <td>720-724</td>\n",
       "      <td>9</td>\n",
       "      <td>20181</td>\n",
       "      <td>0</td>\n",
       "      <td>8 years</td>\n",
       "    </tr>\n",
       "  </tbody>\n",
       "</table>\n",
       "</div>"
      ],
      "text/plain": [
       "      ID  Amount.Requested Amount.Funded.By.Investors Loan.Length  \\\n",
       "0  20093              5000                       5000   60 months   \n",
       "1  62445             18000                      18000   60 months   \n",
       "2  65248              7200                       7200   60 months   \n",
       "3  81822              7200                       7200   36 months   \n",
       "4  57923             22000                      22000   60 months   \n",
       "\n",
       "         Loan.Purpose Debt.To.Income.Ratio State Home.Ownership  \\\n",
       "0              moving               12.59%    NY           RENT   \n",
       "1  debt_consolidation                4.93%    CA           RENT   \n",
       "2  debt_consolidation               25.16%    LA       MORTGAGE   \n",
       "3  debt_consolidation               17.27%    NY       MORTGAGE   \n",
       "4  debt_consolidation               18.28%    MI       MORTGAGE   \n",
       "\n",
       "   Monthly.Income FICO.Range Open.CREDIT.Lines  Revolving.CREDIT.Balance  \\\n",
       "0         4416.67    690-694                13                      7686   \n",
       "1         5258.50    710-714                 6                     11596   \n",
       "2         3750.00    750-754                13                      7283   \n",
       "3         3416.67    790-794                14                      4838   \n",
       "4         6083.33    720-724                 9                     20181   \n",
       "\n",
       "   Inquiries.in.the.Last.6.Months Employment.Length  \n",
       "0                               0          < 1 year  \n",
       "1                               0         10+ years  \n",
       "2                               0           6 years  \n",
       "3                               0         10+ years  \n",
       "4                               0           8 years  "
      ]
     },
     "execution_count": 4,
     "metadata": {},
     "output_type": "execute_result"
    }
   ],
   "source": [
    "ld_test.head()"
   ]
  },
  {
   "cell_type": "code",
   "execution_count": 5,
   "metadata": {
    "colab": {
     "base_uri": "https://localhost:8080/"
    },
    "id": "pBcGVQQBT7qk",
    "outputId": "8d860196-7665-4121-b08d-32a57c49c01d"
   },
   "outputs": [
    {
     "data": {
      "text/plain": [
       "((2200, 15), (300, 14))"
      ]
     },
     "execution_count": 5,
     "metadata": {},
     "output_type": "execute_result"
    }
   ],
   "source": [
    "#### Sanity check ####\n",
    "\n",
    "ld_train.shape, ld_test.shape"
   ]
  },
  {
   "cell_type": "code",
   "execution_count": 6,
   "metadata": {
    "id": "ne9DRR90PAom"
   },
   "outputs": [],
   "source": [
    "### EDA AND PREPROCESSING"
   ]
  },
  {
   "cell_type": "code",
   "execution_count": 7,
   "metadata": {
    "colab": {
     "base_uri": "https://localhost:8080/"
    },
    "id": "1zrg_rYsULkh",
    "outputId": "cc392f6a-9482-4498-d478-f7a42e851e59"
   },
   "outputs": [
    {
     "data": {
      "text/plain": [
       "ID                                float64\n",
       "Amount.Requested                   object\n",
       "Amount.Funded.By.Investors         object\n",
       "Interest.Rate                      object\n",
       "Loan.Length                        object\n",
       "Loan.Purpose                       object\n",
       "Debt.To.Income.Ratio               object\n",
       "State                              object\n",
       "Home.Ownership                     object\n",
       "Monthly.Income                    float64\n",
       "FICO.Range                         object\n",
       "Open.CREDIT.Lines                  object\n",
       "Revolving.CREDIT.Balance           object\n",
       "Inquiries.in.the.Last.6.Months    float64\n",
       "Employment.Length                  object\n",
       "dtype: object"
      ]
     },
     "execution_count": 7,
     "metadata": {},
     "output_type": "execute_result"
    }
   ],
   "source": [
    "ld_train.dtypes"
   ]
  },
  {
   "cell_type": "code",
   "execution_count": 8,
   "metadata": {
    "colab": {
     "base_uri": "https://localhost:8080/"
    },
    "id": "jKJaHA1TKnO-",
    "outputId": "5c313c74-9f3a-41f3-8dd7-1999bf3eabbf"
   },
   "outputs": [
    {
     "data": {
      "text/plain": [
       "4"
      ]
     },
     "execution_count": 8,
     "metadata": {},
     "output_type": "execute_result"
    }
   ],
   "source": [
    "ld_train['Amount.Requested'].unique()\n",
    "\n",
    "sum(ld_train['Amount.Requested']=='.')"
   ]
  },
  {
   "cell_type": "code",
   "execution_count": 9,
   "metadata": {
    "id": "GZ5ZOv_FPPSO"
   },
   "outputs": [],
   "source": [
    "#### Insights ####\n",
    "\n",
    "# ID could be removed, Amount.Funded.By.Investors - Done\n",
    "# Amount.Requested should have been a numeric column, check for the reasons for it being a object column and convert it to numeric - Done\n",
    "# Interest rate column remove the % sign and convert to numeric - Done\n",
    "# Loan length do a bit of analysis\n",
    "# Loan Purpose (Truly object) - convert it to numeric\n",
    "# Debt to Income ratio - Remove the % sign and convert to numeric - Done\n",
    "# State (Turly object) - Convert to numeric\n",
    "# Home Ownership (Truly Object) - Convert to numeric\n",
    "# Fico range - Convert into a numeric column - Done\n",
    "# Open credit lines - Convert to numeric - Done\n",
    "# Revolving credit balance. - Convert to numeric - Done\n",
    "# Employment length - Convert to numeric\n"
   ]
  },
  {
   "cell_type": "code",
   "execution_count": 10,
   "metadata": {
    "id": "3V3K2Z24Tmr5"
   },
   "outputs": [],
   "source": [
    "# lets combine the data for data prep\n",
    "\n",
    "ld_test['Interest.Rate']=np.nan\n",
    "ld_train['data']='train'\n",
    "\n",
    "ld_test['data']='test'\n",
    "ld_test=ld_test[ld_train.columns]\n",
    "\n",
    "ld_all=pd.concat([ld_train,ld_test],axis=0)"
   ]
  },
  {
   "cell_type": "code",
   "execution_count": 11,
   "metadata": {
    "colab": {
     "base_uri": "https://localhost:8080/"
    },
    "id": "7daMu0lXMY2-",
    "outputId": "09026bd8-720d-4d88-ab78-fd47b80e6574"
   },
   "outputs": [
    {
     "data": {
      "text/plain": [
       "((2500, 16), (2200, 16), (300, 16))"
      ]
     },
     "execution_count": 11,
     "metadata": {},
     "output_type": "execute_result"
    }
   ],
   "source": [
    "ld_all.shape, ld_train.shape, ld_test.shape"
   ]
  },
  {
   "cell_type": "code",
   "execution_count": 12,
   "metadata": {
    "colab": {
     "base_uri": "https://localhost:8080/",
     "height": 224
    },
    "id": "jGWFizbUTmr5",
    "outputId": "2e556990-5494-4ee0-d27a-f30d35713938"
   },
   "outputs": [
    {
     "data": {
      "text/html": [
       "<div>\n",
       "<style scoped>\n",
       "    .dataframe tbody tr th:only-of-type {\n",
       "        vertical-align: middle;\n",
       "    }\n",
       "\n",
       "    .dataframe tbody tr th {\n",
       "        vertical-align: top;\n",
       "    }\n",
       "\n",
       "    .dataframe thead th {\n",
       "        text-align: right;\n",
       "    }\n",
       "</style>\n",
       "<table border=\"1\" class=\"dataframe\">\n",
       "  <thead>\n",
       "    <tr style=\"text-align: right;\">\n",
       "      <th></th>\n",
       "      <th>ID</th>\n",
       "      <th>Amount.Requested</th>\n",
       "      <th>Amount.Funded.By.Investors</th>\n",
       "      <th>Interest.Rate</th>\n",
       "      <th>Loan.Length</th>\n",
       "      <th>Loan.Purpose</th>\n",
       "      <th>Debt.To.Income.Ratio</th>\n",
       "      <th>State</th>\n",
       "      <th>Home.Ownership</th>\n",
       "      <th>Monthly.Income</th>\n",
       "      <th>FICO.Range</th>\n",
       "      <th>Open.CREDIT.Lines</th>\n",
       "      <th>Revolving.CREDIT.Balance</th>\n",
       "      <th>Inquiries.in.the.Last.6.Months</th>\n",
       "      <th>Employment.Length</th>\n",
       "      <th>data</th>\n",
       "    </tr>\n",
       "  </thead>\n",
       "  <tbody>\n",
       "    <tr>\n",
       "      <th>0</th>\n",
       "      <td>79542.0</td>\n",
       "      <td>25000</td>\n",
       "      <td>25000</td>\n",
       "      <td>18.49%</td>\n",
       "      <td>60 months</td>\n",
       "      <td>debt_consolidation</td>\n",
       "      <td>27.56%</td>\n",
       "      <td>VA</td>\n",
       "      <td>MORTGAGE</td>\n",
       "      <td>8606.56</td>\n",
       "      <td>720-724</td>\n",
       "      <td>11</td>\n",
       "      <td>15210</td>\n",
       "      <td>3.0</td>\n",
       "      <td>5 years</td>\n",
       "      <td>train</td>\n",
       "    </tr>\n",
       "    <tr>\n",
       "      <th>1</th>\n",
       "      <td>75473.0</td>\n",
       "      <td>19750</td>\n",
       "      <td>19750</td>\n",
       "      <td>17.27%</td>\n",
       "      <td>60 months</td>\n",
       "      <td>debt_consolidation</td>\n",
       "      <td>13.39%</td>\n",
       "      <td>NY</td>\n",
       "      <td>MORTGAGE</td>\n",
       "      <td>6737.50</td>\n",
       "      <td>710-714</td>\n",
       "      <td>14</td>\n",
       "      <td>19070</td>\n",
       "      <td>3.0</td>\n",
       "      <td>4 years</td>\n",
       "      <td>train</td>\n",
       "    </tr>\n",
       "    <tr>\n",
       "      <th>2</th>\n",
       "      <td>67265.0</td>\n",
       "      <td>2100</td>\n",
       "      <td>2100</td>\n",
       "      <td>14.33%</td>\n",
       "      <td>36 months</td>\n",
       "      <td>major_purchase</td>\n",
       "      <td>3.50%</td>\n",
       "      <td>LA</td>\n",
       "      <td>OWN</td>\n",
       "      <td>1000.00</td>\n",
       "      <td>690-694</td>\n",
       "      <td>13</td>\n",
       "      <td>893</td>\n",
       "      <td>1.0</td>\n",
       "      <td>&lt; 1 year</td>\n",
       "      <td>train</td>\n",
       "    </tr>\n",
       "    <tr>\n",
       "      <th>3</th>\n",
       "      <td>80167.0</td>\n",
       "      <td>28000</td>\n",
       "      <td>28000</td>\n",
       "      <td>16.29%</td>\n",
       "      <td>36 months</td>\n",
       "      <td>credit_card</td>\n",
       "      <td>19.62%</td>\n",
       "      <td>NV</td>\n",
       "      <td>MORTGAGE</td>\n",
       "      <td>7083.33</td>\n",
       "      <td>710-714</td>\n",
       "      <td>12</td>\n",
       "      <td>38194</td>\n",
       "      <td>1.0</td>\n",
       "      <td>10+ years</td>\n",
       "      <td>train</td>\n",
       "    </tr>\n",
       "    <tr>\n",
       "      <th>4</th>\n",
       "      <td>17240.0</td>\n",
       "      <td>24250</td>\n",
       "      <td>17431.82</td>\n",
       "      <td>12.23%</td>\n",
       "      <td>60 months</td>\n",
       "      <td>credit_card</td>\n",
       "      <td>23.79%</td>\n",
       "      <td>OH</td>\n",
       "      <td>MORTGAGE</td>\n",
       "      <td>5833.33</td>\n",
       "      <td>730-734</td>\n",
       "      <td>6</td>\n",
       "      <td>31061</td>\n",
       "      <td>2.0</td>\n",
       "      <td>10+ years</td>\n",
       "      <td>train</td>\n",
       "    </tr>\n",
       "  </tbody>\n",
       "</table>\n",
       "</div>"
      ],
      "text/plain": [
       "        ID Amount.Requested Amount.Funded.By.Investors Interest.Rate  \\\n",
       "0  79542.0            25000                      25000        18.49%   \n",
       "1  75473.0            19750                      19750        17.27%   \n",
       "2  67265.0             2100                       2100        14.33%   \n",
       "3  80167.0            28000                      28000        16.29%   \n",
       "4  17240.0            24250                   17431.82        12.23%   \n",
       "\n",
       "  Loan.Length        Loan.Purpose Debt.To.Income.Ratio State Home.Ownership  \\\n",
       "0   60 months  debt_consolidation               27.56%    VA       MORTGAGE   \n",
       "1   60 months  debt_consolidation               13.39%    NY       MORTGAGE   \n",
       "2   36 months      major_purchase                3.50%    LA            OWN   \n",
       "3   36 months         credit_card               19.62%    NV       MORTGAGE   \n",
       "4   60 months         credit_card               23.79%    OH       MORTGAGE   \n",
       "\n",
       "   Monthly.Income FICO.Range Open.CREDIT.Lines Revolving.CREDIT.Balance  \\\n",
       "0         8606.56    720-724                11                    15210   \n",
       "1         6737.50    710-714                14                    19070   \n",
       "2         1000.00    690-694                13                      893   \n",
       "3         7083.33    710-714                12                    38194   \n",
       "4         5833.33    730-734                 6                    31061   \n",
       "\n",
       "   Inquiries.in.the.Last.6.Months Employment.Length   data  \n",
       "0                             3.0           5 years  train  \n",
       "1                             3.0           4 years  train  \n",
       "2                             1.0          < 1 year  train  \n",
       "3                             1.0         10+ years  train  \n",
       "4                             2.0         10+ years  train  "
      ]
     },
     "execution_count": 12,
     "metadata": {},
     "output_type": "execute_result"
    }
   ],
   "source": [
    "ld_all.head()"
   ]
  },
  {
   "cell_type": "code",
   "execution_count": 13,
   "metadata": {
    "colab": {
     "base_uri": "https://localhost:8080/"
    },
    "id": "ZlpG5xieSOqk",
    "outputId": "f4000620-dc96-403a-c2a0-f5ea92e93212"
   },
   "outputs": [
    {
     "data": {
      "text/plain": [
       "(2500, 16)"
      ]
     },
     "execution_count": 13,
     "metadata": {},
     "output_type": "execute_result"
    }
   ],
   "source": [
    "ld_all.shape"
   ]
  },
  {
   "cell_type": "code",
   "execution_count": 14,
   "metadata": {
    "colab": {
     "base_uri": "https://localhost:8080/"
    },
    "id": "2UvdARTkTmr5",
    "outputId": "d511ceb4-b9b9-4377-907a-0fc2b911b702"
   },
   "outputs": [
    {
     "data": {
      "text/plain": [
       "ID                                float64\n",
       "Amount.Requested                   object\n",
       "Amount.Funded.By.Investors         object\n",
       "Interest.Rate                      object\n",
       "Loan.Length                        object\n",
       "Loan.Purpose                       object\n",
       "Debt.To.Income.Ratio               object\n",
       "State                              object\n",
       "Home.Ownership                     object\n",
       "Monthly.Income                    float64\n",
       "FICO.Range                         object\n",
       "Open.CREDIT.Lines                  object\n",
       "Revolving.CREDIT.Balance           object\n",
       "Inquiries.in.the.Last.6.Months    float64\n",
       "Employment.Length                  object\n",
       "data                               object\n",
       "dtype: object"
      ]
     },
     "execution_count": 14,
     "metadata": {},
     "output_type": "execute_result"
    }
   ],
   "source": [
    "ld_all.dtypes"
   ]
  },
  {
   "cell_type": "code",
   "execution_count": 15,
   "metadata": {
    "id": "1RJsNik_Tmr6"
   },
   "outputs": [],
   "source": [
    "# ID,Amount.Funded.By.Investors : drop \n",
    "# Interest Rate , Debt to income ratio : remove % and then to numeric\n",
    "# Amount.Requested , 'Open.CREDIT.Lines','Revolving.CREDIT.Balance': convert it to numeric \n",
    "# FICO.Range : replace it by a numeric column which is average of the range\n",
    "# Employment Length : convert to number\n",
    "# Loan Lenth, Loan Purpose , State , Home ownership: dummies for categories with good occurence rate"
   ]
  },
  {
   "cell_type": "code",
   "execution_count": 16,
   "metadata": {
    "id": "f2Mw81ZGTmr6"
   },
   "outputs": [
    {
     "data": {
      "text/plain": [
       "Amount.Requested                   object\n",
       "Interest.Rate                      object\n",
       "Loan.Length                        object\n",
       "Loan.Purpose                       object\n",
       "Debt.To.Income.Ratio               object\n",
       "State                              object\n",
       "Home.Ownership                     object\n",
       "Monthly.Income                    float64\n",
       "FICO.Range                         object\n",
       "Open.CREDIT.Lines                  object\n",
       "Revolving.CREDIT.Balance           object\n",
       "Inquiries.in.the.Last.6.Months    float64\n",
       "Employment.Length                  object\n",
       "data                               object\n",
       "dtype: object"
      ]
     },
     "execution_count": 16,
     "metadata": {},
     "output_type": "execute_result"
    }
   ],
   "source": [
    "### Dropping irrelevant columns #####\n",
    "ld_all.drop(['ID','Amount.Funded.By.Investors'],axis=1,inplace=True)\n",
    "ld_all.dtypes"
   ]
  },
  {
   "cell_type": "code",
   "execution_count": 17,
   "metadata": {
    "colab": {
     "base_uri": "https://localhost:8080/"
    },
    "id": "iSCF3T9zM_jL",
    "outputId": "6d400ce3-db72-400a-f3c5-8335e8db46ac"
   },
   "outputs": [
    {
     "data": {
      "text/plain": [
       "Amount.Requested                   object\n",
       "Interest.Rate                      object\n",
       "Loan.Length                        object\n",
       "Loan.Purpose                       object\n",
       "Debt.To.Income.Ratio               object\n",
       "State                              object\n",
       "Home.Ownership                     object\n",
       "Monthly.Income                    float64\n",
       "FICO.Range                         object\n",
       "Open.CREDIT.Lines                  object\n",
       "Revolving.CREDIT.Balance           object\n",
       "Inquiries.in.the.Last.6.Months    float64\n",
       "Employment.Length                  object\n",
       "data                               object\n",
       "dtype: object"
      ]
     },
     "execution_count": 17,
     "metadata": {},
     "output_type": "execute_result"
    }
   ],
   "source": [
    "ld_all.dtypes"
   ]
  },
  {
   "cell_type": "code",
   "execution_count": 18,
   "metadata": {
    "id": "RkSFdwEoTmr6"
   },
   "outputs": [],
   "source": [
    "###### Remove % sign and convert to numeric ####\n",
    "\n",
    "for column in ['Interest.Rate','Debt.To.Income.Ratio']:\n",
    "    ld_all[column] = ld_all[column].str.replace('%','')\n",
    "    ld_all[column] = pd.to_numeric(ld_all[column],errors='coerce') ## for all the values in the column, try to convert to numeric"
   ]
  },
  {
   "cell_type": "code",
   "execution_count": 19,
   "metadata": {
    "id": "ZW4Cn2djTmr6"
   },
   "outputs": [],
   "source": [
    "#### Numeric conversion of columns ###\n",
    "\n",
    "for col in ['Amount.Requested',\n",
    "            'Open.CREDIT.Lines','Revolving.CREDIT.Balance']:\n",
    "    ld_all[col]=pd.to_numeric(ld_all[col],errors='coerce')"
   ]
  },
  {
   "cell_type": "code",
   "execution_count": 20,
   "metadata": {
    "colab": {
     "base_uri": "https://localhost:8080/"
    },
    "id": "NHcOTpsBUgNA",
    "outputId": "e9dc3937-26f0-4800-bda4-e2e7f32229d2"
   },
   "outputs": [
    {
     "data": {
      "text/plain": [
       "Amount.Requested                  float64\n",
       "Interest.Rate                     float64\n",
       "Loan.Length                        object\n",
       "Loan.Purpose                       object\n",
       "Debt.To.Income.Ratio              float64\n",
       "State                              object\n",
       "Home.Ownership                     object\n",
       "Monthly.Income                    float64\n",
       "FICO.Range                         object\n",
       "Open.CREDIT.Lines                 float64\n",
       "Revolving.CREDIT.Balance          float64\n",
       "Inquiries.in.the.Last.6.Months    float64\n",
       "Employment.Length                  object\n",
       "data                               object\n",
       "dtype: object"
      ]
     },
     "execution_count": 20,
     "metadata": {},
     "output_type": "execute_result"
    }
   ],
   "source": [
    "ld_all.dtypes"
   ]
  },
  {
   "cell_type": "code",
   "execution_count": 21,
   "metadata": {
    "id": "ipOL9ZBXTmr7"
   },
   "outputs": [],
   "source": [
    "##### Treating the FICO Range ######\n",
    "\n",
    "k=ld_all['FICO.Range'].str.split(\"-\",expand=True).astype(float)\n",
    "\n",
    "ld_all['fico']=0.5*(k[0]+k[1])\n",
    "\n",
    "del ld_all['FICO.Range']"
   ]
  },
  {
   "cell_type": "code",
   "execution_count": 22,
   "metadata": {
    "colab": {
     "base_uri": "https://localhost:8080/"
    },
    "id": "FWTYMNbRTmr7",
    "outputId": "86b86e70-e62d-4bd0-e5d2-c8c0b72bf406"
   },
   "outputs": [
    {
     "data": {
      "text/plain": [
       "10+ years    653\n",
       "< 1 year     249\n",
       "2 years      243\n",
       "3 years      235\n",
       "5 years      202\n",
       "4 years      191\n",
       "1 year       177\n",
       "6 years      163\n",
       "7 years      127\n",
       "8 years      108\n",
       "9 years       72\n",
       ".              2\n",
       "Name: Employment.Length, dtype: int64"
      ]
     },
     "execution_count": 22,
     "metadata": {},
     "output_type": "execute_result"
    }
   ],
   "source": [
    "ld_all['Employment.Length'].value_counts()"
   ]
  },
  {
   "cell_type": "code",
   "execution_count": 23,
   "metadata": {
    "colab": {
     "base_uri": "https://localhost:8080/",
     "height": 224
    },
    "id": "6Rj5smgTHxQ1",
    "outputId": "73130256-da51-4c61-f54f-8fbe562c9fc6"
   },
   "outputs": [
    {
     "data": {
      "text/html": [
       "<div>\n",
       "<style scoped>\n",
       "    .dataframe tbody tr th:only-of-type {\n",
       "        vertical-align: middle;\n",
       "    }\n",
       "\n",
       "    .dataframe tbody tr th {\n",
       "        vertical-align: top;\n",
       "    }\n",
       "\n",
       "    .dataframe thead th {\n",
       "        text-align: right;\n",
       "    }\n",
       "</style>\n",
       "<table border=\"1\" class=\"dataframe\">\n",
       "  <thead>\n",
       "    <tr style=\"text-align: right;\">\n",
       "      <th></th>\n",
       "      <th>Amount.Requested</th>\n",
       "      <th>Interest.Rate</th>\n",
       "      <th>Loan.Length</th>\n",
       "      <th>Loan.Purpose</th>\n",
       "      <th>Debt.To.Income.Ratio</th>\n",
       "      <th>State</th>\n",
       "      <th>Home.Ownership</th>\n",
       "      <th>Monthly.Income</th>\n",
       "      <th>Open.CREDIT.Lines</th>\n",
       "      <th>Revolving.CREDIT.Balance</th>\n",
       "      <th>Inquiries.in.the.Last.6.Months</th>\n",
       "      <th>Employment.Length</th>\n",
       "      <th>data</th>\n",
       "      <th>fico</th>\n",
       "    </tr>\n",
       "  </thead>\n",
       "  <tbody>\n",
       "    <tr>\n",
       "      <th>0</th>\n",
       "      <td>25000.0</td>\n",
       "      <td>18.49</td>\n",
       "      <td>60 months</td>\n",
       "      <td>debt_consolidation</td>\n",
       "      <td>27.56</td>\n",
       "      <td>VA</td>\n",
       "      <td>MORTGAGE</td>\n",
       "      <td>8606.56</td>\n",
       "      <td>11.0</td>\n",
       "      <td>15210.0</td>\n",
       "      <td>3.0</td>\n",
       "      <td>5 years</td>\n",
       "      <td>train</td>\n",
       "      <td>722.0</td>\n",
       "    </tr>\n",
       "    <tr>\n",
       "      <th>1</th>\n",
       "      <td>19750.0</td>\n",
       "      <td>17.27</td>\n",
       "      <td>60 months</td>\n",
       "      <td>debt_consolidation</td>\n",
       "      <td>13.39</td>\n",
       "      <td>NY</td>\n",
       "      <td>MORTGAGE</td>\n",
       "      <td>6737.50</td>\n",
       "      <td>14.0</td>\n",
       "      <td>19070.0</td>\n",
       "      <td>3.0</td>\n",
       "      <td>4 years</td>\n",
       "      <td>train</td>\n",
       "      <td>712.0</td>\n",
       "    </tr>\n",
       "    <tr>\n",
       "      <th>2</th>\n",
       "      <td>2100.0</td>\n",
       "      <td>14.33</td>\n",
       "      <td>36 months</td>\n",
       "      <td>major_purchase</td>\n",
       "      <td>3.50</td>\n",
       "      <td>LA</td>\n",
       "      <td>OWN</td>\n",
       "      <td>1000.00</td>\n",
       "      <td>13.0</td>\n",
       "      <td>893.0</td>\n",
       "      <td>1.0</td>\n",
       "      <td>&lt; 1 year</td>\n",
       "      <td>train</td>\n",
       "      <td>692.0</td>\n",
       "    </tr>\n",
       "    <tr>\n",
       "      <th>3</th>\n",
       "      <td>28000.0</td>\n",
       "      <td>16.29</td>\n",
       "      <td>36 months</td>\n",
       "      <td>credit_card</td>\n",
       "      <td>19.62</td>\n",
       "      <td>NV</td>\n",
       "      <td>MORTGAGE</td>\n",
       "      <td>7083.33</td>\n",
       "      <td>12.0</td>\n",
       "      <td>38194.0</td>\n",
       "      <td>1.0</td>\n",
       "      <td>10+ years</td>\n",
       "      <td>train</td>\n",
       "      <td>712.0</td>\n",
       "    </tr>\n",
       "    <tr>\n",
       "      <th>4</th>\n",
       "      <td>24250.0</td>\n",
       "      <td>12.23</td>\n",
       "      <td>60 months</td>\n",
       "      <td>credit_card</td>\n",
       "      <td>23.79</td>\n",
       "      <td>OH</td>\n",
       "      <td>MORTGAGE</td>\n",
       "      <td>5833.33</td>\n",
       "      <td>6.0</td>\n",
       "      <td>31061.0</td>\n",
       "      <td>2.0</td>\n",
       "      <td>10+ years</td>\n",
       "      <td>train</td>\n",
       "      <td>732.0</td>\n",
       "    </tr>\n",
       "  </tbody>\n",
       "</table>\n",
       "</div>"
      ],
      "text/plain": [
       "   Amount.Requested  Interest.Rate Loan.Length        Loan.Purpose  \\\n",
       "0           25000.0          18.49   60 months  debt_consolidation   \n",
       "1           19750.0          17.27   60 months  debt_consolidation   \n",
       "2            2100.0          14.33   36 months      major_purchase   \n",
       "3           28000.0          16.29   36 months         credit_card   \n",
       "4           24250.0          12.23   60 months         credit_card   \n",
       "\n",
       "   Debt.To.Income.Ratio State Home.Ownership  Monthly.Income  \\\n",
       "0                 27.56    VA       MORTGAGE         8606.56   \n",
       "1                 13.39    NY       MORTGAGE         6737.50   \n",
       "2                  3.50    LA            OWN         1000.00   \n",
       "3                 19.62    NV       MORTGAGE         7083.33   \n",
       "4                 23.79    OH       MORTGAGE         5833.33   \n",
       "\n",
       "   Open.CREDIT.Lines  Revolving.CREDIT.Balance  \\\n",
       "0               11.0                   15210.0   \n",
       "1               14.0                   19070.0   \n",
       "2               13.0                     893.0   \n",
       "3               12.0                   38194.0   \n",
       "4                6.0                   31061.0   \n",
       "\n",
       "   Inquiries.in.the.Last.6.Months Employment.Length   data   fico  \n",
       "0                             3.0           5 years  train  722.0  \n",
       "1                             3.0           4 years  train  712.0  \n",
       "2                             1.0          < 1 year  train  692.0  \n",
       "3                             1.0         10+ years  train  712.0  \n",
       "4                             2.0         10+ years  train  732.0  "
      ]
     },
     "execution_count": 23,
     "metadata": {},
     "output_type": "execute_result"
    }
   ],
   "source": [
    "ld_all.head()"
   ]
  },
  {
   "cell_type": "code",
   "execution_count": 24,
   "metadata": {
    "id": "QkkwVyw4Tmr7"
   },
   "outputs": [],
   "source": [
    "ld_all['Employment.Length']=ld_all['Employment.Length'].str.replace('.',\"10\")\n",
    "\n",
    "ld_all['Employment.Length']=ld_all['Employment.Length'].str.replace('years',\"\")\n",
    "\n",
    "ld_all['Employment.Length']=ld_all['Employment.Length'].str.replace('year',\"\")\n",
    "\n",
    "ld_all['Employment.Length']=ld_all['Employment.Length'].str.replace('10\\+',\"10\")\n",
    "\n",
    "ld_all['Employment.Length']=ld_all['Employment.Length'].str.replace('< 1',\"0.5\")\n",
    "\n",
    "ld_all['Employment.Length'] = pd.to_numeric(ld_all['Employment.Length'],errors = 'coerce')"
   ]
  },
  {
   "cell_type": "code",
   "execution_count": 25,
   "metadata": {
    "colab": {
     "base_uri": "https://localhost:8080/",
     "height": 224
    },
    "id": "mEShxRoDQihC",
    "outputId": "da8b93c2-ecf8-4ba0-9d6f-f3f0c1f3e59f"
   },
   "outputs": [
    {
     "data": {
      "text/html": [
       "<div>\n",
       "<style scoped>\n",
       "    .dataframe tbody tr th:only-of-type {\n",
       "        vertical-align: middle;\n",
       "    }\n",
       "\n",
       "    .dataframe tbody tr th {\n",
       "        vertical-align: top;\n",
       "    }\n",
       "\n",
       "    .dataframe thead th {\n",
       "        text-align: right;\n",
       "    }\n",
       "</style>\n",
       "<table border=\"1\" class=\"dataframe\">\n",
       "  <thead>\n",
       "    <tr style=\"text-align: right;\">\n",
       "      <th></th>\n",
       "      <th>Amount.Requested</th>\n",
       "      <th>Interest.Rate</th>\n",
       "      <th>Loan.Length</th>\n",
       "      <th>Loan.Purpose</th>\n",
       "      <th>Debt.To.Income.Ratio</th>\n",
       "      <th>State</th>\n",
       "      <th>Home.Ownership</th>\n",
       "      <th>Monthly.Income</th>\n",
       "      <th>Open.CREDIT.Lines</th>\n",
       "      <th>Revolving.CREDIT.Balance</th>\n",
       "      <th>Inquiries.in.the.Last.6.Months</th>\n",
       "      <th>Employment.Length</th>\n",
       "      <th>data</th>\n",
       "      <th>fico</th>\n",
       "    </tr>\n",
       "  </thead>\n",
       "  <tbody>\n",
       "    <tr>\n",
       "      <th>0</th>\n",
       "      <td>25000.0</td>\n",
       "      <td>18.49</td>\n",
       "      <td>60 months</td>\n",
       "      <td>debt_consolidation</td>\n",
       "      <td>27.56</td>\n",
       "      <td>VA</td>\n",
       "      <td>MORTGAGE</td>\n",
       "      <td>8606.56</td>\n",
       "      <td>11.0</td>\n",
       "      <td>15210.0</td>\n",
       "      <td>3.0</td>\n",
       "      <td>5.0</td>\n",
       "      <td>train</td>\n",
       "      <td>722.0</td>\n",
       "    </tr>\n",
       "    <tr>\n",
       "      <th>1</th>\n",
       "      <td>19750.0</td>\n",
       "      <td>17.27</td>\n",
       "      <td>60 months</td>\n",
       "      <td>debt_consolidation</td>\n",
       "      <td>13.39</td>\n",
       "      <td>NY</td>\n",
       "      <td>MORTGAGE</td>\n",
       "      <td>6737.50</td>\n",
       "      <td>14.0</td>\n",
       "      <td>19070.0</td>\n",
       "      <td>3.0</td>\n",
       "      <td>4.0</td>\n",
       "      <td>train</td>\n",
       "      <td>712.0</td>\n",
       "    </tr>\n",
       "    <tr>\n",
       "      <th>2</th>\n",
       "      <td>2100.0</td>\n",
       "      <td>14.33</td>\n",
       "      <td>36 months</td>\n",
       "      <td>major_purchase</td>\n",
       "      <td>3.50</td>\n",
       "      <td>LA</td>\n",
       "      <td>OWN</td>\n",
       "      <td>1000.00</td>\n",
       "      <td>13.0</td>\n",
       "      <td>893.0</td>\n",
       "      <td>1.0</td>\n",
       "      <td>0.5</td>\n",
       "      <td>train</td>\n",
       "      <td>692.0</td>\n",
       "    </tr>\n",
       "    <tr>\n",
       "      <th>3</th>\n",
       "      <td>28000.0</td>\n",
       "      <td>16.29</td>\n",
       "      <td>36 months</td>\n",
       "      <td>credit_card</td>\n",
       "      <td>19.62</td>\n",
       "      <td>NV</td>\n",
       "      <td>MORTGAGE</td>\n",
       "      <td>7083.33</td>\n",
       "      <td>12.0</td>\n",
       "      <td>38194.0</td>\n",
       "      <td>1.0</td>\n",
       "      <td>10.0</td>\n",
       "      <td>train</td>\n",
       "      <td>712.0</td>\n",
       "    </tr>\n",
       "    <tr>\n",
       "      <th>4</th>\n",
       "      <td>24250.0</td>\n",
       "      <td>12.23</td>\n",
       "      <td>60 months</td>\n",
       "      <td>credit_card</td>\n",
       "      <td>23.79</td>\n",
       "      <td>OH</td>\n",
       "      <td>MORTGAGE</td>\n",
       "      <td>5833.33</td>\n",
       "      <td>6.0</td>\n",
       "      <td>31061.0</td>\n",
       "      <td>2.0</td>\n",
       "      <td>10.0</td>\n",
       "      <td>train</td>\n",
       "      <td>732.0</td>\n",
       "    </tr>\n",
       "  </tbody>\n",
       "</table>\n",
       "</div>"
      ],
      "text/plain": [
       "   Amount.Requested  Interest.Rate Loan.Length        Loan.Purpose  \\\n",
       "0           25000.0          18.49   60 months  debt_consolidation   \n",
       "1           19750.0          17.27   60 months  debt_consolidation   \n",
       "2            2100.0          14.33   36 months      major_purchase   \n",
       "3           28000.0          16.29   36 months         credit_card   \n",
       "4           24250.0          12.23   60 months         credit_card   \n",
       "\n",
       "   Debt.To.Income.Ratio State Home.Ownership  Monthly.Income  \\\n",
       "0                 27.56    VA       MORTGAGE         8606.56   \n",
       "1                 13.39    NY       MORTGAGE         6737.50   \n",
       "2                  3.50    LA            OWN         1000.00   \n",
       "3                 19.62    NV       MORTGAGE         7083.33   \n",
       "4                 23.79    OH       MORTGAGE         5833.33   \n",
       "\n",
       "   Open.CREDIT.Lines  Revolving.CREDIT.Balance  \\\n",
       "0               11.0                   15210.0   \n",
       "1               14.0                   19070.0   \n",
       "2               13.0                     893.0   \n",
       "3               12.0                   38194.0   \n",
       "4                6.0                   31061.0   \n",
       "\n",
       "   Inquiries.in.the.Last.6.Months  Employment.Length   data   fico  \n",
       "0                             3.0                5.0  train  722.0  \n",
       "1                             3.0                4.0  train  712.0  \n",
       "2                             1.0                0.5  train  692.0  \n",
       "3                             1.0               10.0  train  712.0  \n",
       "4                             2.0               10.0  train  732.0  "
      ]
     },
     "execution_count": 25,
     "metadata": {},
     "output_type": "execute_result"
    }
   ],
   "source": [
    "ld_all.head()"
   ]
  },
  {
   "cell_type": "code",
   "execution_count": 26,
   "metadata": {
    "colab": {
     "base_uri": "https://localhost:8080/"
    },
    "id": "Txz-btaVY1gg",
    "outputId": "08072769-61c7-4da3-e478-f419038a9272"
   },
   "outputs": [
    {
     "data": {
      "text/plain": [
       "Amount.Requested                  float64\n",
       "Interest.Rate                     float64\n",
       "Loan.Length                        object\n",
       "Loan.Purpose                       object\n",
       "Debt.To.Income.Ratio              float64\n",
       "State                              object\n",
       "Home.Ownership                     object\n",
       "Monthly.Income                    float64\n",
       "Open.CREDIT.Lines                 float64\n",
       "Revolving.CREDIT.Balance          float64\n",
       "Inquiries.in.the.Last.6.Months    float64\n",
       "Employment.Length                 float64\n",
       "data                               object\n",
       "fico                              float64\n",
       "dtype: object"
      ]
     },
     "execution_count": 26,
     "metadata": {},
     "output_type": "execute_result"
    }
   ],
   "source": [
    "ld_all.dtypes"
   ]
  },
  {
   "cell_type": "code",
   "execution_count": 27,
   "metadata": {
    "colab": {
     "base_uri": "https://localhost:8080/",
     "height": 224
    },
    "id": "7lln8M3PYuxk",
    "outputId": "79fefb56-3598-40d7-c451-f828f7b094e8"
   },
   "outputs": [
    {
     "data": {
      "text/html": [
       "<div>\n",
       "<style scoped>\n",
       "    .dataframe tbody tr th:only-of-type {\n",
       "        vertical-align: middle;\n",
       "    }\n",
       "\n",
       "    .dataframe tbody tr th {\n",
       "        vertical-align: top;\n",
       "    }\n",
       "\n",
       "    .dataframe thead th {\n",
       "        text-align: right;\n",
       "    }\n",
       "</style>\n",
       "<table border=\"1\" class=\"dataframe\">\n",
       "  <thead>\n",
       "    <tr style=\"text-align: right;\">\n",
       "      <th></th>\n",
       "      <th>Amount.Requested</th>\n",
       "      <th>Interest.Rate</th>\n",
       "      <th>Loan.Length</th>\n",
       "      <th>Loan.Purpose</th>\n",
       "      <th>Debt.To.Income.Ratio</th>\n",
       "      <th>State</th>\n",
       "      <th>Home.Ownership</th>\n",
       "      <th>Monthly.Income</th>\n",
       "      <th>Open.CREDIT.Lines</th>\n",
       "      <th>Revolving.CREDIT.Balance</th>\n",
       "      <th>Inquiries.in.the.Last.6.Months</th>\n",
       "      <th>Employment.Length</th>\n",
       "      <th>data</th>\n",
       "      <th>fico</th>\n",
       "    </tr>\n",
       "  </thead>\n",
       "  <tbody>\n",
       "    <tr>\n",
       "      <th>0</th>\n",
       "      <td>25000.0</td>\n",
       "      <td>18.49</td>\n",
       "      <td>60 months</td>\n",
       "      <td>debt_consolidation</td>\n",
       "      <td>27.56</td>\n",
       "      <td>VA</td>\n",
       "      <td>MORTGAGE</td>\n",
       "      <td>8606.56</td>\n",
       "      <td>11.0</td>\n",
       "      <td>15210.0</td>\n",
       "      <td>3.0</td>\n",
       "      <td>5.0</td>\n",
       "      <td>train</td>\n",
       "      <td>722.0</td>\n",
       "    </tr>\n",
       "    <tr>\n",
       "      <th>1</th>\n",
       "      <td>19750.0</td>\n",
       "      <td>17.27</td>\n",
       "      <td>60 months</td>\n",
       "      <td>debt_consolidation</td>\n",
       "      <td>13.39</td>\n",
       "      <td>NY</td>\n",
       "      <td>MORTGAGE</td>\n",
       "      <td>6737.50</td>\n",
       "      <td>14.0</td>\n",
       "      <td>19070.0</td>\n",
       "      <td>3.0</td>\n",
       "      <td>4.0</td>\n",
       "      <td>train</td>\n",
       "      <td>712.0</td>\n",
       "    </tr>\n",
       "    <tr>\n",
       "      <th>2</th>\n",
       "      <td>2100.0</td>\n",
       "      <td>14.33</td>\n",
       "      <td>36 months</td>\n",
       "      <td>major_purchase</td>\n",
       "      <td>3.50</td>\n",
       "      <td>LA</td>\n",
       "      <td>OWN</td>\n",
       "      <td>1000.00</td>\n",
       "      <td>13.0</td>\n",
       "      <td>893.0</td>\n",
       "      <td>1.0</td>\n",
       "      <td>0.5</td>\n",
       "      <td>train</td>\n",
       "      <td>692.0</td>\n",
       "    </tr>\n",
       "    <tr>\n",
       "      <th>3</th>\n",
       "      <td>28000.0</td>\n",
       "      <td>16.29</td>\n",
       "      <td>36 months</td>\n",
       "      <td>credit_card</td>\n",
       "      <td>19.62</td>\n",
       "      <td>NV</td>\n",
       "      <td>MORTGAGE</td>\n",
       "      <td>7083.33</td>\n",
       "      <td>12.0</td>\n",
       "      <td>38194.0</td>\n",
       "      <td>1.0</td>\n",
       "      <td>10.0</td>\n",
       "      <td>train</td>\n",
       "      <td>712.0</td>\n",
       "    </tr>\n",
       "    <tr>\n",
       "      <th>4</th>\n",
       "      <td>24250.0</td>\n",
       "      <td>12.23</td>\n",
       "      <td>60 months</td>\n",
       "      <td>credit_card</td>\n",
       "      <td>23.79</td>\n",
       "      <td>OH</td>\n",
       "      <td>MORTGAGE</td>\n",
       "      <td>5833.33</td>\n",
       "      <td>6.0</td>\n",
       "      <td>31061.0</td>\n",
       "      <td>2.0</td>\n",
       "      <td>10.0</td>\n",
       "      <td>train</td>\n",
       "      <td>732.0</td>\n",
       "    </tr>\n",
       "  </tbody>\n",
       "</table>\n",
       "</div>"
      ],
      "text/plain": [
       "   Amount.Requested  Interest.Rate Loan.Length        Loan.Purpose  \\\n",
       "0           25000.0          18.49   60 months  debt_consolidation   \n",
       "1           19750.0          17.27   60 months  debt_consolidation   \n",
       "2            2100.0          14.33   36 months      major_purchase   \n",
       "3           28000.0          16.29   36 months         credit_card   \n",
       "4           24250.0          12.23   60 months         credit_card   \n",
       "\n",
       "   Debt.To.Income.Ratio State Home.Ownership  Monthly.Income  \\\n",
       "0                 27.56    VA       MORTGAGE         8606.56   \n",
       "1                 13.39    NY       MORTGAGE         6737.50   \n",
       "2                  3.50    LA            OWN         1000.00   \n",
       "3                 19.62    NV       MORTGAGE         7083.33   \n",
       "4                 23.79    OH       MORTGAGE         5833.33   \n",
       "\n",
       "   Open.CREDIT.Lines  Revolving.CREDIT.Balance  \\\n",
       "0               11.0                   15210.0   \n",
       "1               14.0                   19070.0   \n",
       "2               13.0                     893.0   \n",
       "3               12.0                   38194.0   \n",
       "4                6.0                   31061.0   \n",
       "\n",
       "   Inquiries.in.the.Last.6.Months  Employment.Length   data   fico  \n",
       "0                             3.0                5.0  train  722.0  \n",
       "1                             3.0                4.0  train  712.0  \n",
       "2                             1.0                0.5  train  692.0  \n",
       "3                             1.0               10.0  train  712.0  \n",
       "4                             2.0               10.0  train  732.0  "
      ]
     },
     "execution_count": 27,
     "metadata": {},
     "output_type": "execute_result"
    }
   ],
   "source": [
    "ld_all.head()"
   ]
  },
  {
   "cell_type": "code",
   "execution_count": 28,
   "metadata": {
    "id": "SrdKRoQcTmr7"
   },
   "outputs": [],
   "source": [
    "# Notice that to apply string function on pandas data frame columns you need to str attribute\n",
    "cat_cols=ld_all.select_dtypes(['object']).columns"
   ]
  },
  {
   "cell_type": "code",
   "execution_count": 29,
   "metadata": {
    "colab": {
     "base_uri": "https://localhost:8080/"
    },
    "id": "Ve_W25kiTmr8",
    "outputId": "36314d91-6173-4d1e-a0b0-c94079b1ae67"
   },
   "outputs": [
    {
     "data": {
      "text/plain": [
       "Index(['Loan.Length', 'Loan.Purpose', 'State', 'Home.Ownership', 'data'], dtype='object')"
      ]
     },
     "execution_count": 29,
     "metadata": {},
     "output_type": "execute_result"
    }
   ],
   "source": [
    "cat_cols"
   ]
  },
  {
   "cell_type": "code",
   "execution_count": 30,
   "metadata": {
    "colab": {
     "base_uri": "https://localhost:8080/"
    },
    "id": "n5E-1hmMTmr8",
    "outputId": "33430df8-624f-47b0-d961-ef3ee0a94476"
   },
   "outputs": [
    {
     "data": {
      "text/plain": [
       "Index(['Loan.Length', 'Loan.Purpose', 'State', 'Home.Ownership', 'data'], dtype='object')"
      ]
     },
     "execution_count": 30,
     "metadata": {},
     "output_type": "execute_result"
    }
   ],
   "source": [
    "cat_cols"
   ]
  },
  {
   "cell_type": "code",
   "execution_count": 31,
   "metadata": {
    "id": "xuPGm5jqWutM"
   },
   "outputs": [],
   "source": [
    "##### Loan.Length column #####\n",
    "\n",
    "ld_all['Loan.Length'].value_counts()\n",
    "\n",
    "ld_all.loc[ld_all['Loan.Length']=='.','Loan.Length'] = '36 months'\n",
    "\n",
    "ld_all['loan_period'] = 0\n",
    "\n",
    "ld_all.loc[ld_all['Loan.Length']=='60 months','loan_period'] = 1\n",
    "\n",
    "del ld_all['Loan.Length']"
   ]
  },
  {
   "cell_type": "code",
   "execution_count": 32,
   "metadata": {
    "colab": {
     "base_uri": "https://localhost:8080/"
    },
    "id": "GXeInisyX0M_",
    "outputId": "3fb39461-e07a-4384-92f1-022d3586603d"
   },
   "outputs": [
    {
     "name": "stdout",
     "output_type": "stream",
     "text": [
      "(2500, 14)\n"
     ]
    }
   ],
   "source": [
    "#ld_all['Loan.Purpose'].value_counts()\n",
    "\n",
    "k = pd.get_dummies(ld_all['Loan.Purpose'])\n",
    "\n",
    "print(k.shape)"
   ]
  },
  {
   "cell_type": "code",
   "execution_count": 33,
   "metadata": {
    "id": "OdQcFkvXXuwm"
   },
   "outputs": [],
   "source": [
    "ld_all.shape\n",
    "\n",
    "del ld_all['Loan.Purpose']\n",
    "\n",
    "ld_all = pd.concat([ld_all,k],axis=1)"
   ]
  },
  {
   "cell_type": "code",
   "execution_count": 34,
   "metadata": {
    "colab": {
     "base_uri": "https://localhost:8080/"
    },
    "id": "-59dgBrnaiJM",
    "outputId": "47fda4cc-2bfb-4979-ec6e-768dbb16ef88"
   },
   "outputs": [
    {
     "data": {
      "text/plain": [
       "Amount.Requested                  float64\n",
       "Interest.Rate                     float64\n",
       "Debt.To.Income.Ratio              float64\n",
       "State                              object\n",
       "Home.Ownership                     object\n",
       "Monthly.Income                    float64\n",
       "Open.CREDIT.Lines                 float64\n",
       "Revolving.CREDIT.Balance          float64\n",
       "Inquiries.in.the.Last.6.Months    float64\n",
       "Employment.Length                 float64\n",
       "data                               object\n",
       "fico                              float64\n",
       "loan_period                         int64\n",
       "car                                 uint8\n",
       "credit_card                         uint8\n",
       "debt_consolidation                  uint8\n",
       "educational                         uint8\n",
       "home_improvement                    uint8\n",
       "house                               uint8\n",
       "major_purchase                      uint8\n",
       "medical                             uint8\n",
       "moving                              uint8\n",
       "other                               uint8\n",
       "renewable_energy                    uint8\n",
       "small_business                      uint8\n",
       "vacation                            uint8\n",
       "wedding                             uint8\n",
       "dtype: object"
      ]
     },
     "execution_count": 34,
     "metadata": {},
     "output_type": "execute_result"
    }
   ],
   "source": [
    "ld_all.dtypes"
   ]
  },
  {
   "cell_type": "code",
   "execution_count": 35,
   "metadata": {
    "id": "F8qVv2xdazzc"
   },
   "outputs": [],
   "source": [
    "del ld_all['State'] ### Hypothesis testing!!!! (ANOVA)"
   ]
  },
  {
   "cell_type": "code",
   "execution_count": 36,
   "metadata": {
    "id": "9McsyvHvct1w"
   },
   "outputs": [],
   "source": [
    "ld_all['Home.Ownership'].value_counts()\n",
    "\n",
    "ld_all.loc[ld_all['Home.Ownership'].isin(['OTHER','NONE']),'Home.Ownership'] = 'RENT'\n",
    "\n",
    "k = pd.get_dummies(ld_all['Home.Ownership'])\n",
    "\n",
    "del ld_all['Home.Ownership']\n",
    "\n",
    "ld_all = pd.concat([ld_all,k],axis=1)"
   ]
  },
  {
   "cell_type": "code",
   "execution_count": 37,
   "metadata": {
    "colab": {
     "base_uri": "https://localhost:8080/"
    },
    "id": "u7Cww2nce_jI",
    "outputId": "7af2198a-39f4-4c66-d678-bd28772dbc4a"
   },
   "outputs": [
    {
     "data": {
      "text/plain": [
       "(2500, 28)"
      ]
     },
     "execution_count": 37,
     "metadata": {},
     "output_type": "execute_result"
    }
   ],
   "source": [
    "ld_all.shape"
   ]
  },
  {
   "cell_type": "code",
   "execution_count": 38,
   "metadata": {
    "colab": {
     "base_uri": "https://localhost:8080/"
    },
    "id": "R_N3YkwuTmr8",
    "outputId": "60a678f0-9d9f-42e8-d2f5-c065149db265"
   },
   "outputs": [
    {
     "data": {
      "text/plain": [
       "\"\\n# you can use following method if you want to ignore categories with too low frequencies ,\\n#in next section for logistic regression we will be using  pandas' get dummies function. \\n# you can work with either of these . \\n#ignoring categories with low frequencies however will result in fewer columns without \\n# affecting model performance too much .\\n\\nfor col in cat_cols:\\n    freqs=ld_all[col].value_counts()\\n    k=freqs.index[freqs>20][:-1]\\n    for cat in k:\\n        name=col+'_'+cat\\n        ld_all[name]=(ld_all[col]==cat).astype(int)\\n    del ld_all[col]\\n    print(col)\\n\""
      ]
     },
     "execution_count": 38,
     "metadata": {},
     "output_type": "execute_result"
    }
   ],
   "source": [
    "'''\n",
    "# you can use following method if you want to ignore categories with too low frequencies ,\n",
    "#in next section for logistic regression we will be using  pandas' get dummies function. \n",
    "# you can work with either of these . \n",
    "#ignoring categories with low frequencies however will result in fewer columns without \n",
    "# affecting model performance too much .\n",
    "\n",
    "for col in cat_cols:\n",
    "    freqs=ld_all[col].value_counts()\n",
    "    k=freqs.index[freqs>20][:-1]\n",
    "    for cat in k:\n",
    "        name=col+'_'+cat\n",
    "        ld_all[name]=(ld_all[col]==cat).astype(int)\n",
    "    del ld_all[col]\n",
    "    print(col)\n",
    "'''\n"
   ]
  },
  {
   "cell_type": "code",
   "execution_count": 39,
   "metadata": {
    "colab": {
     "base_uri": "https://localhost:8080/"
    },
    "id": "ZDgB2uZ9Tmr9",
    "outputId": "07a452dd-2685-494e-8f21-163116b2d8c6"
   },
   "outputs": [
    {
     "data": {
      "text/plain": [
       "(2500, 28)"
      ]
     },
     "execution_count": 39,
     "metadata": {},
     "output_type": "execute_result"
    }
   ],
   "source": [
    "ld_all.shape"
   ]
  },
  {
   "cell_type": "code",
   "execution_count": 40,
   "metadata": {
    "colab": {
     "base_uri": "https://localhost:8080/"
    },
    "id": "KzMpli1yTmr9",
    "outputId": "98f8840b-3510-448a-9152-d5cd5e2d01c0"
   },
   "outputs": [
    {
     "data": {
      "text/plain": [
       "Amount.Requested                    5\n",
       "Interest.Rate                     300\n",
       "Debt.To.Income.Ratio                1\n",
       "Monthly.Income                      3\n",
       "Open.CREDIT.Lines                   9\n",
       "Revolving.CREDIT.Balance            5\n",
       "Inquiries.in.the.Last.6.Months      3\n",
       "Employment.Length                  78\n",
       "data                                0\n",
       "fico                                0\n",
       "loan_period                         0\n",
       "car                                 0\n",
       "credit_card                         0\n",
       "debt_consolidation                  0\n",
       "educational                         0\n",
       "home_improvement                    0\n",
       "house                               0\n",
       "major_purchase                      0\n",
       "medical                             0\n",
       "moving                              0\n",
       "other                               0\n",
       "renewable_energy                    0\n",
       "small_business                      0\n",
       "vacation                            0\n",
       "wedding                             0\n",
       "MORTGAGE                            0\n",
       "OWN                                 0\n",
       "RENT                                0\n",
       "dtype: int64"
      ]
     },
     "execution_count": 40,
     "metadata": {},
     "output_type": "execute_result"
    }
   ],
   "source": [
    "ld_all.isnull().sum()"
   ]
  },
  {
   "cell_type": "code",
   "execution_count": 41,
   "metadata": {
    "id": "gNunbS3NTmr9"
   },
   "outputs": [],
   "source": [
    "for col in ld_all.columns:\n",
    "    if (col not in ['Interest.Rate','data'])& (ld_all[col].isnull().sum()>0):\n",
    "        ld_all.loc[ld_all[col].isnull(),col]=ld_all.loc[ld_all['data']=='train',col].mean()"
   ]
  },
  {
   "cell_type": "code",
   "execution_count": 42,
   "metadata": {
    "colab": {
     "base_uri": "https://localhost:8080/"
    },
    "id": "P8PqDL9sTmr9",
    "outputId": "344648ad-ac18-4047-e1f2-2e614f1f1f21"
   },
   "outputs": [
    {
     "data": {
      "text/plain": [
       "Amount.Requested                    0\n",
       "Interest.Rate                     300\n",
       "Debt.To.Income.Ratio                0\n",
       "Monthly.Income                      0\n",
       "Open.CREDIT.Lines                   0\n",
       "Revolving.CREDIT.Balance            0\n",
       "Inquiries.in.the.Last.6.Months      0\n",
       "Employment.Length                   0\n",
       "data                                0\n",
       "fico                                0\n",
       "loan_period                         0\n",
       "car                                 0\n",
       "credit_card                         0\n",
       "debt_consolidation                  0\n",
       "educational                         0\n",
       "home_improvement                    0\n",
       "house                               0\n",
       "major_purchase                      0\n",
       "medical                             0\n",
       "moving                              0\n",
       "other                               0\n",
       "renewable_energy                    0\n",
       "small_business                      0\n",
       "vacation                            0\n",
       "wedding                             0\n",
       "MORTGAGE                            0\n",
       "OWN                                 0\n",
       "RENT                                0\n",
       "dtype: int64"
      ]
     },
     "execution_count": 42,
     "metadata": {},
     "output_type": "execute_result"
    }
   ],
   "source": [
    "ld_all.isnull().sum()"
   ]
  },
  {
   "cell_type": "code",
   "execution_count": 43,
   "metadata": {
    "colab": {
     "base_uri": "https://localhost:8080/"
    },
    "id": "E9LwT54GTmr-",
    "outputId": "cac1da99-bc01-401a-df14-6104701dd576"
   },
   "outputs": [
    {
     "name": "stderr",
     "output_type": "stream",
     "text": [
      "C:\\Users\\saicb\\anaconda3\\lib\\site-packages\\pandas\\core\\frame.py:4163: SettingWithCopyWarning: \n",
      "A value is trying to be set on a copy of a slice from a DataFrame\n",
      "\n",
      "See the caveats in the documentation: https://pandas.pydata.org/pandas-docs/stable/user_guide/indexing.html#returning-a-view-versus-a-copy\n",
      "  return super().drop(\n"
     ]
    }
   ],
   "source": [
    "ld_train=ld_all[ld_all['data']=='train']\n",
    "del ld_train['data']\n",
    "ld_test=ld_all[ld_all['data']=='test']\n",
    "ld_test.drop(['Interest.Rate','data'],axis=1,inplace=True)"
   ]
  },
  {
   "cell_type": "code",
   "execution_count": 44,
   "metadata": {
    "id": "qD3KX0R5Wrpd"
   },
   "outputs": [],
   "source": [
    "numeric_data = ld_train[['Amount.Requested', 'Interest.Rate','Debt.To.Income.Ratio',\n",
    "            'Open.CREDIT.Lines','Revolving.CREDIT.Balance']]"
   ]
  },
  {
   "cell_type": "code",
   "execution_count": 45,
   "metadata": {
    "colab": {
     "background_save": true,
     "base_uri": "https://localhost:8080/",
     "height": 358
    },
    "id": "Rh8r3UvWXDed",
    "outputId": "5809b6a3-4647-451c-c761-df5cbf6dc16e"
   },
   "outputs": [
    {
     "data": {
      "image/png": "[encoded data removed]",
      "text/plain": [
       "<Figure size 216x144 with 1 Axes>"
      ]
     },
     "metadata": {
      "needs_background": "light"
     },
     "output_type": "display_data"
    }
   ],
   "source": [
    "indexes = list(numeric_data.index)\n",
    "plt.figure(figsize = (3,2))\n",
    "for cols in numeric_data:\n",
    "    plt.plot(indexes, numeric_data[cols])"
   ]
  },
  {
   "cell_type": "code",
   "execution_count": 46,
   "metadata": {
    "id": "VOXWsR5hTmr-"
   },
   "outputs": [],
   "source": [
    "del ld_all"
   ]
  },
  {
   "cell_type": "code",
   "execution_count": 47,
   "metadata": {
    "id": "5RmWQsDbTmr-"
   },
   "outputs": [],
   "source": [
    "from sklearn.model_selection import train_test_split"
   ]
  },
  {
   "cell_type": "code",
   "execution_count": 48,
   "metadata": {
    "id": "wzyXq0kPTmr-"
   },
   "outputs": [],
   "source": [
    "ld_train1,ld_train2=train_test_split(ld_train,test_size=0.2,random_state=2)"
   ]
  },
  {
   "cell_type": "code",
   "execution_count": 49,
   "metadata": {
    "id": "M2gXCyiuTmr-"
   },
   "outputs": [],
   "source": [
    "# Notice that only train data is used for imputing missing values in both train and test \n",
    "\n",
    "x_train1=ld_train1.drop('Interest.Rate',axis=1)\n",
    "y_train1=ld_train1['Interest.Rate']"
   ]
  },
  {
   "cell_type": "code",
   "execution_count": 50,
   "metadata": {
    "id": "P0CmOEHFTmr_"
   },
   "outputs": [],
   "source": [
    "from sklearn.linear_model import LinearRegression"
   ]
  },
  {
   "cell_type": "code",
   "execution_count": 51,
   "metadata": {
    "id": "ifBMH0q_Tmr_"
   },
   "outputs": [],
   "source": [
    "lm=LinearRegression()"
   ]
  },
  {
   "cell_type": "code",
   "execution_count": 52,
   "metadata": {
    "id": "O0tgSgu5Tmr_",
    "outputId": "717f75a6-48d8-47da-d29c-07dff08542b4"
   },
   "outputs": [
    {
     "data": {
      "text/plain": [
       "LinearRegression()"
      ]
     },
     "execution_count": 52,
     "metadata": {},
     "output_type": "execute_result"
    }
   ],
   "source": [
    "lm.fit(x_train1,y_train1)"
   ]
  },
  {
   "cell_type": "code",
   "execution_count": 53,
   "metadata": {
    "id": "CdiIQUzXTmr_",
    "outputId": "322780ee-1cc4-4f79-9970-92c7d16a4273"
   },
   "outputs": [
    {
     "data": {
      "text/plain": [
       "(1760, 26)"
      ]
     },
     "execution_count": 53,
     "metadata": {},
     "output_type": "execute_result"
    }
   ],
   "source": [
    "x_train1.shape"
   ]
  },
  {
   "cell_type": "code",
   "execution_count": 54,
   "metadata": {
    "id": "ksyPNOypTmr_",
    "outputId": "fce82807-71d8-4b20-cd0f-b75a66c21e7c"
   },
   "outputs": [
    {
     "data": {
      "text/plain": [
       "76.71107765280745"
      ]
     },
     "execution_count": 54,
     "metadata": {},
     "output_type": "execute_result"
    }
   ],
   "source": [
    "lm.intercept_"
   ]
  },
  {
   "cell_type": "code",
   "execution_count": 55,
   "metadata": {
    "id": "KUzQEmwLTmsA",
    "outputId": "8dd8dbfb-f30e-4b4d-a150-7b89d1660818"
   },
   "outputs": [
    {
     "data": {
      "text/plain": [
       "[('Amount.Requested', 0.0001557088462700363),\n",
       " ('Debt.To.Income.Ratio', -0.002753532252399038),\n",
       " ('Monthly.Income', -2.613559368415645e-05),\n",
       " ('Open.CREDIT.Lines', -0.03942689671114859),\n",
       " ('Revolving.CREDIT.Balance', -4.062027037108317e-06),\n",
       " ('Inquiries.in.the.Last.6.Months', 0.3267799787775358),\n",
       " ('Employment.Length', 0.02883593287306613),\n",
       " ('fico', -0.086920573442241),\n",
       " ('loan_period', 3.151502518181016),\n",
       " ('car', -1.1774034011336287),\n",
       " ('credit_card', -1.820769262780536),\n",
       " ('debt_consolidation', -1.6548160705847965),\n",
       " ('educational', -0.9877138719689966),\n",
       " ('home_improvement', -1.5316061013364706),\n",
       " ('house', -0.9943068006752509),\n",
       " ('major_purchase', -1.3372298631761532),\n",
       " ('medical', -1.604310106731608),\n",
       " ('moving', 0.10026623793493283),\n",
       " ('other', -0.7529972324153996),\n",
       " ('renewable_energy', -1.1871950541071923),\n",
       " ('small_business', -1.1544883522732547),\n",
       " ('vacation', -1.4801744074320913),\n",
       " ('wedding', -1.9808964682258337),\n",
       " ('MORTGAGE', -3.1330215475128997),\n",
       " ('OWN', -2.691431917318697),\n",
       " ('RENT', -2.8899306706304824)]"
      ]
     },
     "execution_count": 55,
     "metadata": {},
     "output_type": "execute_result"
    }
   ],
   "source": [
    "list(zip(x_train1.columns,lm.coef_))"
   ]
  },
  {
   "cell_type": "code",
   "execution_count": 56,
   "metadata": {
    "id": "VZ2TKQ-4TmsA"
   },
   "outputs": [],
   "source": [
    "x_train2=ld_train2.drop('Interest.Rate',axis=1)"
   ]
  },
  {
   "cell_type": "code",
   "execution_count": 57,
   "metadata": {
    "id": "ev_hXWx8TmsA"
   },
   "outputs": [],
   "source": [
    "predicted_ir=lm.predict(x_train2)"
   ]
  },
  {
   "cell_type": "code",
   "execution_count": 58,
   "metadata": {
    "id": "oG6h2aEqTmsA"
   },
   "outputs": [],
   "source": [
    "from sklearn.metrics import mean_absolute_error"
   ]
  },
  {
   "cell_type": "code",
   "execution_count": 59,
   "metadata": {
    "id": "cqjvfWytTmsA",
    "outputId": "06578b36-a272-4ec3-bb39-ff9f2647fb43"
   },
   "outputs": [
    {
     "data": {
      "text/plain": [
       "1.62195294566171"
      ]
     },
     "execution_count": 59,
     "metadata": {},
     "output_type": "execute_result"
    }
   ],
   "source": [
    "mean_absolute_error(ld_train2['Interest.Rate'],predicted_ir)"
   ]
  },
  {
   "cell_type": "markdown",
   "metadata": {
    "id": "mIr7KEuGTmsB"
   },
   "source": [
    "We know the tentative performance now, lets build the model on entire training to make prediction on test/production"
   ]
  },
  {
   "cell_type": "code",
   "execution_count": 60,
   "metadata": {
    "id": "q4oLkEUYTmsB"
   },
   "outputs": [],
   "source": [
    "x_train=ld_train.drop('Interest.Rate',axis=1)\n",
    "y_train=ld_train['Interest.Rate']"
   ]
  },
  {
   "cell_type": "code",
   "execution_count": 61,
   "metadata": {
    "id": "pPCv-5FoTmsB",
    "outputId": "88027ed5-8ba6-4cec-a1bf-82c432d5268f"
   },
   "outputs": [
    {
     "data": {
      "text/plain": [
       "LinearRegression()"
      ]
     },
     "execution_count": 61,
     "metadata": {},
     "output_type": "execute_result"
    }
   ],
   "source": [
    "lm.fit(x_train,y_train)"
   ]
  },
  {
   "cell_type": "code",
   "execution_count": 62,
   "metadata": {
    "id": "N4KtCd6bTmsB"
   },
   "outputs": [],
   "source": [
    "test_pred=lm.predict(ld_test)"
   ]
  },
  {
   "cell_type": "markdown",
   "metadata": {
    "id": "Y_D22xsATmsB"
   },
   "source": [
    "We can write these to a csv file for submission like this :"
   ]
  },
  {
   "cell_type": "code",
   "execution_count": 63,
   "metadata": {
    "id": "6aqITrERTmsB"
   },
   "outputs": [],
   "source": [
    "pd.DataFrame(test_pred).to_csv(\"mysubmission.csv\",index=False)"
   ]
  },
  {
   "cell_type": "markdown",
   "metadata": {
    "id": "6mdDmOSoTmsC"
   },
   "source": [
    "# Ridge  Regression"
   ]
  },
  {
   "cell_type": "code",
   "execution_count": 64,
   "metadata": {
    "id": "IM0GmcM1TmsC"
   },
   "outputs": [],
   "source": [
    "from sklearn.linear_model import Ridge,Lasso\n",
    "from sklearn.model_selection import GridSearchCV"
   ]
  },
  {
   "cell_type": "code",
   "execution_count": 65,
   "metadata": {
    "id": "Xs2ojdmpTmsC"
   },
   "outputs": [],
   "source": [
    "lambdas=np.linspace(1,100,100)"
   ]
  },
  {
   "cell_type": "code",
   "execution_count": 66,
   "metadata": {
    "id": "qW_fUZQ-TmsC"
   },
   "outputs": [],
   "source": [
    "params={'alpha':lambdas}"
   ]
  },
  {
   "cell_type": "code",
   "execution_count": 67,
   "metadata": {
    "id": "xCWm7MLmTmsC"
   },
   "outputs": [],
   "source": [
    "model=Ridge(fit_intercept=True)"
   ]
  },
  {
   "cell_type": "code",
   "execution_count": 68,
   "metadata": {
    "id": "MV3_S6JFTmsC"
   },
   "outputs": [],
   "source": [
    "grid_search=GridSearchCV(model,param_grid=params,cv=10,scoring='neg_mean_absolute_error')"
   ]
  },
  {
   "cell_type": "code",
   "execution_count": 69,
   "metadata": {
    "id": "FVmFUacjTmsD",
    "outputId": "da5896d9-bcd5-4e8d-fb59-cc1803900bc2"
   },
   "outputs": [
    {
     "data": {
      "text/plain": [
       "GridSearchCV(cv=10, estimator=Ridge(),\n",
       "             param_grid={'alpha': array([  1.,   2.,   3.,   4.,   5.,   6.,   7.,   8.,   9.,  10.,  11.,\n",
       "        12.,  13.,  14.,  15.,  16.,  17.,  18.,  19.,  20.,  21.,  22.,\n",
       "        23.,  24.,  25.,  26.,  27.,  28.,  29.,  30.,  31.,  32.,  33.,\n",
       "        34.,  35.,  36.,  37.,  38.,  39.,  40.,  41.,  42.,  43.,  44.,\n",
       "        45.,  46.,  47.,  48.,  49.,  50.,  51.,  52.,  53.,  54.,  55.,\n",
       "        56.,  57.,  58.,  59.,  60.,  61.,  62.,  63.,  64.,  65.,  66.,\n",
       "        67.,  68.,  69.,  70.,  71.,  72.,  73.,  74.,  75.,  76.,  77.,\n",
       "        78.,  79.,  80.,  81.,  82.,  83.,  84.,  85.,  86.,  87.,  88.,\n",
       "        89.,  90.,  91.,  92.,  93.,  94.,  95.,  96.,  97.,  98.,  99.,\n",
       "       100.])},\n",
       "             scoring='neg_mean_absolute_error')"
      ]
     },
     "execution_count": 69,
     "metadata": {},
     "output_type": "execute_result"
    }
   ],
   "source": [
    "grid_search.fit(x_train,y_train)"
   ]
  },
  {
   "cell_type": "code",
   "execution_count": 70,
   "metadata": {
    "id": "XoawPPbxTmsD",
    "outputId": "a7d7ec42-2706-477c-b293-ca7d3f488fac"
   },
   "outputs": [
    {
     "data": {
      "text/plain": [
       "Ridge(alpha=16.0)"
      ]
     },
     "execution_count": 70,
     "metadata": {},
     "output_type": "execute_result"
    }
   ],
   "source": [
    "grid_search.best_estimator_"
   ]
  },
  {
   "cell_type": "code",
   "execution_count": 71,
   "metadata": {
    "id": "yNcDL-RMTmsD",
    "outputId": "738322ab-a929-4062-a857-f542d9d63a79"
   },
   "outputs": [
    {
     "data": {
      "text/plain": [
       "{'mean_fit_time': array([0.00210669, 0.00259249, 0.00180609, 0.00239582, 0.00239201,\n",
       "        0.00224807, 0.00220973, 0.00219259, 0.00229387, 0.00219984,\n",
       "        0.00242126, 0.00262074, 0.00190604, 0.00270581, 0.00269105,\n",
       "        0.00184772, 0.00189435, 0.00196459, 0.00230305, 0.0024369 ,\n",
       "        0.0022974 , 0.00199325, 0.00189655, 0.00195165, 0.00199337,\n",
       "        0.00189362, 0.00226688, 0.00246289, 0.00219615, 0.00230014,\n",
       "        0.00222185, 0.00220773, 0.00229225, 0.00225625, 0.00228386,\n",
       "        0.00209322, 0.00226882, 0.00231633, 0.00219264, 0.00219271,\n",
       "        0.00240014, 0.00231702, 0.00199327, 0.00209293, 0.00219278,\n",
       "        0.0021807 , 0.00229383, 0.0020649 , 0.00194845, 0.00230534,\n",
       "        0.00189452, 0.00206151, 0.00199418, 0.00237129, 0.00225036,\n",
       "        0.00189371, 0.00179396, 0.00225697, 0.00209303, 0.00255461,\n",
       "        0.00235457, 0.00199342, 0.00216093, 0.00185905, 0.00189378,\n",
       "        0.00214596, 0.00259132, 0.00219328, 0.00189509, 0.00194604,\n",
       "        0.00199344, 0.00250325, 0.00229812, 0.00189376, 0.00229239,\n",
       "        0.00189488, 0.00199993, 0.00220041, 0.00252762, 0.00218701,\n",
       "        0.00241494, 0.00260174, 0.00239949, 0.0019933 , 0.00199564,\n",
       "        0.00236936, 0.00252383, 0.00239425, 0.00211253, 0.0018543 ,\n",
       "        0.00199332, 0.00209303, 0.00229712, 0.00219283, 0.00199769,\n",
       "        0.00184751, 0.00234618, 0.00219152, 0.00199332, 0.00210497]),\n",
       " 'std_fit_time': array([2.97355924e-04, 4.89058101e-04, 3.08708977e-04, 4.93052628e-04,\n",
       "        4.88168859e-04, 4.05424053e-04, 3.93334067e-04, 3.98588195e-04,\n",
       "        4.55645736e-04, 3.95813745e-04, 4.71239291e-04, 5.23419196e-04,\n",
       "        2.81219848e-04, 5.10829997e-04, 4.56866456e-04, 4.54267816e-04,\n",
       "        2.99181390e-04, 8.74371949e-05, 4.04621941e-04, 4.89026025e-04,\n",
       "        4.63127682e-04, 2.62260437e-07, 3.00114922e-04, 3.63041542e-04,\n",
       "        2.56784668e-07, 2.99088219e-04, 3.98203039e-04, 6.49021587e-04,\n",
       "        4.05829394e-04, 4.52256431e-04, 3.61609317e-04, 4.30539323e-04,\n",
       "        6.38084122e-04, 4.18412151e-04, 4.44448553e-04, 2.98850974e-04,\n",
       "        4.19971474e-04, 4.46744967e-04, 3.98922223e-04, 3.98588227e-04,\n",
       "        4.34127977e-04, 4.46633694e-04, 1.16800773e-07, 2.99024601e-04,\n",
       "        3.98612090e-04, 4.06199202e-04, 4.59198256e-04, 1.60536377e-04,\n",
       "        1.36908958e-04, 4.77631659e-04, 2.99164509e-04, 2.04026334e-04,\n",
       "        1.39224202e-05, 5.36583759e-04, 4.11232657e-04, 2.99040542e-04,\n",
       "        3.98683591e-04, 4.12949819e-04, 2.99151798e-04, 4.70366138e-04,\n",
       "        5.35566737e-04, 9.41677936e-07, 6.34947775e-04, 3.05283427e-04,\n",
       "        2.99064409e-04, 3.18272244e-04, 4.88285671e-04, 5.98887359e-04,\n",
       "        2.99516526e-04, 3.52965449e-04, 3.91035544e-07, 6.79846590e-04,\n",
       "        4.65777687e-04, 2.98976974e-04, 6.38091523e-04, 1.65008879e-04,\n",
       "        3.43241699e-05, 4.19724838e-04, 5.08597352e-04, 4.01473215e-04,\n",
       "        8.19834233e-04, 5.42440175e-04, 5.05049306e-04, 1.92219204e-07,\n",
       "        7.12951286e-06, 7.53755523e-04, 5.37997988e-04, 4.91048295e-04,\n",
       "        7.01064983e-04, 3.24785551e-04, 1.16800773e-07, 2.98992827e-04,\n",
       "        4.56280987e-04, 3.98410004e-04, 1.21567527e-05, 3.20564592e-04,\n",
       "        4.51087261e-04, 3.99330458e-04, 1.58148994e-07, 3.05096412e-04]),\n",
       " 'mean_score_time': array([0.00139637, 0.00107515, 0.00153103, 0.00139539, 0.00099695,\n",
       "        0.00109673, 0.00109637, 0.00161169, 0.0012382 , 0.00117435,\n",
       "        0.00128193, 0.00131676, 0.00113175, 0.00128882, 0.00119598,\n",
       "        0.0010963 , 0.00110207, 0.00105653, 0.0012563 , 0.00155082,\n",
       "        0.00115638, 0.00109639, 0.00109634, 0.00129397, 0.00099676,\n",
       "        0.00110536, 0.00124784, 0.00148888, 0.0010025 , 0.001196  ,\n",
       "        0.00120578, 0.00134125, 0.00123966, 0.00165343, 0.00119913,\n",
       "        0.00109639, 0.00133026, 0.00119593, 0.00099692, 0.00109749,\n",
       "        0.00124602, 0.00119987, 0.00099678, 0.00099673, 0.00114043,\n",
       "        0.00109627, 0.00115712, 0.00109487, 0.00130115, 0.00104108,\n",
       "        0.00111525, 0.00110819, 0.00105071, 0.00127614, 0.000947  ,\n",
       "        0.00099664, 0.00099671, 0.00099666, 0.00119598, 0.00139558,\n",
       "        0.00119636, 0.00114951, 0.00122228, 0.00109644, 0.00109668,\n",
       "        0.00104637, 0.00179417, 0.00134792, 0.00105996, 0.00109675,\n",
       "        0.00099661, 0.00137346, 0.0013994 , 0.00119588, 0.00119598,\n",
       "        0.00141261, 0.00099401, 0.00109482, 0.00129974, 0.00129449,\n",
       "        0.00158548, 0.00130346, 0.00129223, 0.00109637, 0.00100791,\n",
       "        0.00124109, 0.00131788, 0.00137303, 0.00113132, 0.0010963 ,\n",
       "        0.00099671, 0.00099661, 0.00110004, 0.00136442, 0.0010993 ,\n",
       "        0.00114603, 0.00129969, 0.0011734 , 0.00109634, 0.00099661]),\n",
       " 'std_score_time': array([6.61096009e-04, 2.39436082e-04, 5.42085243e-04, 4.88188331e-04,\n",
       "        8.41249407e-07, 2.98740249e-04, 2.99096126e-04, 5.04182912e-04,\n",
       "        3.97614221e-04, 3.58758303e-04, 3.93507663e-04, 4.45255980e-04,\n",
       "        3.06835327e-04, 4.46672217e-04, 3.98659720e-04, 2.98961056e-04,\n",
       "        2.97445389e-04, 1.79417995e-04, 4.09358230e-04, 4.66887625e-04,\n",
       "        3.31866926e-04, 2.99167652e-04, 2.99024639e-04, 4.54896077e-04,\n",
       "        3.02519263e-07, 2.97235130e-04, 4.03086385e-04, 4.71932517e-04,\n",
       "        1.75002485e-05, 3.98707429e-04, 3.95639684e-04, 4.47214017e-04,\n",
       "        4.86299930e-04, 4.45460217e-04, 3.96894017e-04, 2.99009374e-04,\n",
       "        4.43836562e-04, 3.98802829e-04, 2.18514237e-07, 2.98585605e-04,\n",
       "        4.01856786e-04, 4.06586971e-04, 1.78416128e-07, 1.58148994e-07,\n",
       "        4.31593305e-04, 2.98889569e-04, 3.31726002e-04, 3.00588077e-04,\n",
       "        4.55303226e-04, 1.21401523e-04, 3.20982147e-04, 3.20880735e-04,\n",
       "        1.49638156e-04, 4.29594995e-04, 1.50206922e-04, 2.33601546e-07,\n",
       "        1.19209290e-07, 2.14576721e-07, 3.98659777e-04, 4.88032829e-04,\n",
       "        3.98470598e-04, 3.22607213e-04, 3.55505786e-04, 2.98913385e-04,\n",
       "        2.98915782e-04, 3.49051978e-04, 3.98850797e-04, 4.49421263e-04,\n",
       "        1.56765929e-04, 2.98812041e-04, 3.91035544e-07, 4.66561001e-04,\n",
       "        4.93313256e-04, 3.98647791e-04, 3.98659792e-04, 5.03868384e-04,\n",
       "        2.14013845e-05, 3.01362951e-04, 4.58040852e-04, 6.38176220e-04,\n",
       "        4.81950240e-04, 4.69951063e-04, 4.67841324e-04, 2.99016656e-04,\n",
       "        3.32599045e-05, 3.99007325e-04, 4.94425034e-04, 5.10596034e-04,\n",
       "        3.05715219e-04, 2.98961037e-04, 1.19209290e-07, 1.28392334e-07,\n",
       "        2.97844976e-04, 4.57810258e-04, 2.98140079e-04, 4.48772902e-04,\n",
       "        4.62955424e-04, 3.18102393e-04, 2.98945206e-04, 2.70791452e-07]),\n",
       " 'param_alpha': masked_array(data=[1.0, 2.0, 3.0, 4.0, 5.0, 6.0, 7.0, 8.0, 9.0, 10.0,\n",
       "                    11.0, 12.0, 13.0, 14.0, 15.0, 16.0, 17.0, 18.0, 19.0,\n",
       "                    20.0, 21.0, 22.0, 23.0, 24.0, 25.0, 26.0, 27.0, 28.0,\n",
       "                    29.0, 30.0, 31.0, 32.0, 33.0, 34.0, 35.0, 36.0, 37.0,\n",
       "                    38.0, 39.0, 40.0, 41.0, 42.0, 43.0, 44.0, 45.0, 46.0,\n",
       "                    47.0, 48.0, 49.0, 50.0, 51.0, 52.0, 53.0, 54.0, 55.0,\n",
       "                    56.0, 57.0, 58.0, 59.0, 60.0, 61.0, 62.0, 63.0, 64.0,\n",
       "                    65.0, 66.0, 67.0, 68.0, 69.0, 70.0, 71.0, 72.0, 73.0,\n",
       "                    74.0, 75.0, 76.0, 77.0, 78.0, 79.0, 80.0, 81.0, 82.0,\n",
       "                    83.0, 84.0, 85.0, 86.0, 87.0, 88.0, 89.0, 90.0, 91.0,\n",
       "                    92.0, 93.0, 94.0, 95.0, 96.0, 97.0, 98.0, 99.0, 100.0],\n",
       "              mask=[False, False, False, False, False, False, False, False,\n",
       "                    False, False, False, False, False, False, False, False,\n",
       "                    False, False, False, False, False, False, False, False,\n",
       "                    False, False, False, False, False, False, False, False,\n",
       "                    False, False, False, False, False, False, False, False,\n",
       "                    False, False, False, False, False, False, False, False,\n",
       "                    False, False, False, False, False, False, False, False,\n",
       "                    False, False, False, False, False, False, False, False,\n",
       "                    False, False, False, False, False, False, False, False,\n",
       "                    False, False, False, False, False, False, False, False,\n",
       "                    False, False, False, False, False, False, False, False,\n",
       "                    False, False, False, False, False, False, False, False,\n",
       "                    False, False, False, False],\n",
       "        fill_value='?',\n",
       "             dtype=object),\n",
       " 'params': [{'alpha': 1.0},\n",
       "  {'alpha': 2.0},\n",
       "  {'alpha': 3.0},\n",
       "  {'alpha': 4.0},\n",
       "  {'alpha': 5.0},\n",
       "  {'alpha': 6.0},\n",
       "  {'alpha': 7.0},\n",
       "  {'alpha': 8.0},\n",
       "  {'alpha': 9.0},\n",
       "  {'alpha': 10.0},\n",
       "  {'alpha': 11.0},\n",
       "  {'alpha': 12.0},\n",
       "  {'alpha': 13.0},\n",
       "  {'alpha': 14.0},\n",
       "  {'alpha': 15.0},\n",
       "  {'alpha': 16.0},\n",
       "  {'alpha': 17.0},\n",
       "  {'alpha': 18.0},\n",
       "  {'alpha': 19.0},\n",
       "  {'alpha': 20.0},\n",
       "  {'alpha': 21.0},\n",
       "  {'alpha': 22.0},\n",
       "  {'alpha': 23.0},\n",
       "  {'alpha': 24.0},\n",
       "  {'alpha': 25.0},\n",
       "  {'alpha': 26.0},\n",
       "  {'alpha': 27.0},\n",
       "  {'alpha': 28.0},\n",
       "  {'alpha': 29.0},\n",
       "  {'alpha': 30.0},\n",
       "  {'alpha': 31.0},\n",
       "  {'alpha': 32.0},\n",
       "  {'alpha': 33.0},\n",
       "  {'alpha': 34.0},\n",
       "  {'alpha': 35.0},\n",
       "  {'alpha': 36.0},\n",
       "  {'alpha': 37.0},\n",
       "  {'alpha': 38.0},\n",
       "  {'alpha': 39.0},\n",
       "  {'alpha': 40.0},\n",
       "  {'alpha': 41.0},\n",
       "  {'alpha': 42.0},\n",
       "  {'alpha': 43.0},\n",
       "  {'alpha': 44.0},\n",
       "  {'alpha': 45.0},\n",
       "  {'alpha': 46.0},\n",
       "  {'alpha': 47.0},\n",
       "  {'alpha': 48.0},\n",
       "  {'alpha': 49.0},\n",
       "  {'alpha': 50.0},\n",
       "  {'alpha': 51.0},\n",
       "  {'alpha': 52.0},\n",
       "  {'alpha': 53.0},\n",
       "  {'alpha': 54.0},\n",
       "  {'alpha': 55.0},\n",
       "  {'alpha': 56.0},\n",
       "  {'alpha': 57.0},\n",
       "  {'alpha': 58.0},\n",
       "  {'alpha': 59.0},\n",
       "  {'alpha': 60.0},\n",
       "  {'alpha': 61.0},\n",
       "  {'alpha': 62.0},\n",
       "  {'alpha': 63.0},\n",
       "  {'alpha': 64.0},\n",
       "  {'alpha': 65.0},\n",
       "  {'alpha': 66.0},\n",
       "  {'alpha': 67.0},\n",
       "  {'alpha': 68.0},\n",
       "  {'alpha': 69.0},\n",
       "  {'alpha': 70.0},\n",
       "  {'alpha': 71.0},\n",
       "  {'alpha': 72.0},\n",
       "  {'alpha': 73.0},\n",
       "  {'alpha': 74.0},\n",
       "  {'alpha': 75.0},\n",
       "  {'alpha': 76.0},\n",
       "  {'alpha': 77.0},\n",
       "  {'alpha': 78.0},\n",
       "  {'alpha': 79.0},\n",
       "  {'alpha': 80.0},\n",
       "  {'alpha': 81.0},\n",
       "  {'alpha': 82.0},\n",
       "  {'alpha': 83.0},\n",
       "  {'alpha': 84.0},\n",
       "  {'alpha': 85.0},\n",
       "  {'alpha': 86.0},\n",
       "  {'alpha': 87.0},\n",
       "  {'alpha': 88.0},\n",
       "  {'alpha': 89.0},\n",
       "  {'alpha': 90.0},\n",
       "  {'alpha': 91.0},\n",
       "  {'alpha': 92.0},\n",
       "  {'alpha': 93.0},\n",
       "  {'alpha': 94.0},\n",
       "  {'alpha': 95.0},\n",
       "  {'alpha': 96.0},\n",
       "  {'alpha': 97.0},\n",
       "  {'alpha': 98.0},\n",
       "  {'alpha': 99.0},\n",
       "  {'alpha': 100.0}],\n",
       " 'split0_test_score': array([-1.73460881, -1.73527376, -1.73592518, -1.73656104, -1.73718755,\n",
       "        -1.73779865, -1.73839467, -1.73897624, -1.73954404, -1.74009873,\n",
       "        -1.74064096, -1.74117135, -1.74169051, -1.742199  , -1.74269736,\n",
       "        -1.74320733, -1.74370891, -1.74420152, -1.7446856 , -1.74516153,\n",
       "        -1.74562968, -1.74609038, -1.74656868, -1.74713629, -1.74770689,\n",
       "        -1.74827061, -1.74882767, -1.74937831, -1.74992273, -1.75046113,\n",
       "        -1.7509937 , -1.75161112, -1.75222728, -1.75283754, -1.75344203,\n",
       "        -1.7540409 , -1.75463429, -1.75522233, -1.75580514, -1.75638284,\n",
       "        -1.75695553, -1.75752334, -1.75808636, -1.75864469, -1.75919842,\n",
       "        -1.75974764, -1.76029245, -1.76086371, -1.76146942, -1.76207052,\n",
       "        -1.76271715, -1.76337685, -1.76403171, -1.76468181, -1.76532721,\n",
       "        -1.76596799, -1.76660422, -1.76723596, -1.76787854, -1.76852233,\n",
       "        -1.76916171, -1.76979674, -1.77042748, -1.77105399, -1.77167631,\n",
       "        -1.77229451, -1.77290863, -1.77351873, -1.77412486, -1.77472706,\n",
       "        -1.77532538, -1.77591988, -1.77651058, -1.77709755, -1.77768082,\n",
       "        -1.77826043, -1.77883643, -1.77940886, -1.77997775, -1.78057147,\n",
       "        -1.78116468, -1.78175436, -1.78234053, -1.78292324, -1.78350252,\n",
       "        -1.7840784 , -1.78465092, -1.78522011, -1.78578601, -1.78634864,\n",
       "        -1.78690805, -1.78746426, -1.7880173 , -1.7885672 , -1.78911399,\n",
       "        -1.78965771, -1.79019838, -1.79073603, -1.79127068, -1.79180237]),\n",
       " 'split1_test_score': array([-1.73095888, -1.72972941, -1.72857113, -1.72749382, -1.72649001,\n",
       "        -1.7255514 , -1.72467181, -1.72384566, -1.72306799, -1.72233444,\n",
       "        -1.72164115, -1.72098469, -1.72036203, -1.71977048, -1.71920763,\n",
       "        -1.71867132, -1.71818243, -1.71772197, -1.7172805 , -1.71689799,\n",
       "        -1.71653603, -1.71618768, -1.71585214, -1.71552868, -1.71521662,\n",
       "        -1.71491533, -1.71462423, -1.71434794, -1.71410689, -1.71387439,\n",
       "        -1.71365   , -1.71343333, -1.71322398, -1.71302162, -1.71282591,\n",
       "        -1.71263654, -1.71245322, -1.71227567, -1.71210365, -1.71194168,\n",
       "        -1.71179662, -1.71165628, -1.71152045, -1.71138895, -1.7112616 ,\n",
       "        -1.71113823, -1.71101868, -1.71090279, -1.71079043, -1.71068145,\n",
       "        -1.71057572, -1.71047314, -1.71037356, -1.71027689, -1.71018302,\n",
       "        -1.71014431, -1.71011083, -1.71007954, -1.71005033, -1.71002314,\n",
       "        -1.70999788, -1.70997449, -1.70995289, -1.70993302, -1.70991481,\n",
       "        -1.7098982 , -1.70988314, -1.70986956, -1.70985741, -1.70984665,\n",
       "        -1.70983722, -1.70982908, -1.70982218, -1.70981648, -1.70981193,\n",
       "        -1.7098085 , -1.70982245, -1.70985974, -1.7098978 , -1.70994563,\n",
       "        -1.71000857, -1.7100717 , -1.71013501, -1.71019847, -1.71026209,\n",
       "        -1.71032583, -1.7103897 , -1.71045368, -1.71051776, -1.71058192,\n",
       "        -1.71064617, -1.71071048, -1.71080269, -1.71090463, -1.71101468,\n",
       "        -1.71112895, -1.71124297, -1.71135674, -1.71147025, -1.71158351]),\n",
       " 'split2_test_score': array([-1.77391112, -1.77225765, -1.77084926, -1.76954055, -1.76832209,\n",
       "        -1.767223  , -1.76665858, -1.76620176, -1.76606113, -1.7660034 ,\n",
       "        -1.76595649, -1.76591925, -1.7658907 , -1.76586997, -1.76587213,\n",
       "        -1.76590208, -1.76594478, -1.76599247, -1.76604468, -1.76610099,\n",
       "        -1.76616103, -1.76622447, -1.76629099, -1.76636032, -1.76643221,\n",
       "        -1.76650643, -1.76658278, -1.76666107, -1.76674112, -1.76682278,\n",
       "        -1.7669059 , -1.76699035, -1.767076  , -1.76716275, -1.7672505 ,\n",
       "        -1.76733913, -1.76742858, -1.76751875, -1.76760957, -1.76770097,\n",
       "        -1.76783406, -1.76798753, -1.76814114, -1.76830916, -1.76851104,\n",
       "        -1.76871263, -1.76891389, -1.76911478, -1.76931527, -1.76951532,\n",
       "        -1.7697149 , -1.76991823, -1.77016539, -1.77041068, -1.77065413,\n",
       "        -1.77089578, -1.77113565, -1.77137377, -1.77161017, -1.77184487,\n",
       "        -1.7720779 , -1.77230929, -1.77253906, -1.77276723, -1.77299383,\n",
       "        -1.77326965, -1.77357566, -1.77387941, -1.77419683, -1.77452773,\n",
       "        -1.7748563 , -1.77518259, -1.77550663, -1.77582844, -1.77614806,\n",
       "        -1.77646551, -1.77678084, -1.77709406, -1.77740521, -1.7777143 ,\n",
       "        -1.77802138, -1.77832645, -1.77862956, -1.77893072, -1.77922996,\n",
       "        -1.77952729, -1.77982275, -1.78011636, -1.78042431, -1.78073709,\n",
       "        -1.78104795, -1.78135692, -1.78166402, -1.78196927, -1.78229428,\n",
       "        -1.78262207, -1.78294794, -1.7832719 , -1.78359397, -1.78391417]),\n",
       " 'split3_test_score': array([-1.67748579, -1.67396319, -1.67195443, -1.67058507, -1.66955156,\n",
       "        -1.66871979, -1.66802071, -1.66745653, -1.66702862, -1.66664395,\n",
       "        -1.66629263, -1.6659677 , -1.66566411, -1.66537813, -1.66510689,\n",
       "        -1.66484818, -1.66460026, -1.66436172, -1.66413143, -1.66390846,\n",
       "        -1.66369202, -1.66349761, -1.66335791, -1.66322264, -1.6630914 ,\n",
       "        -1.66297253, -1.66286958, -1.66276962, -1.66267242, -1.66257778,\n",
       "        -1.66248552, -1.66239547, -1.66230748, -1.66222144, -1.66213721,\n",
       "        -1.6620547 , -1.66197381, -1.66189444, -1.66181653, -1.66173999,\n",
       "        -1.66166477, -1.6615908 , -1.66151801, -1.66144637, -1.66137582,\n",
       "        -1.66130632, -1.66123782, -1.6611703 , -1.66111656, -1.66106417,\n",
       "        -1.66101257, -1.66096174, -1.66091164, -1.66086226, -1.66081357,\n",
       "        -1.66076555, -1.66071818, -1.66067143, -1.66062529, -1.66057974,\n",
       "        -1.66053476, -1.66049035, -1.66044647, -1.66040313, -1.6603603 ,\n",
       "        -1.66031797, -1.66027614, -1.66023478, -1.66019389, -1.66015346,\n",
       "        -1.66011347, -1.66008155, -1.66005519, -1.66002916, -1.66000346,\n",
       "        -1.65997808, -1.6599735 , -1.65998583, -1.65999823, -1.66001071,\n",
       "        -1.66003308, -1.6600756 , -1.66011804, -1.66016039, -1.66020265,\n",
       "        -1.66024482, -1.66028689, -1.66032887, -1.66037076, -1.66041254,\n",
       "        -1.66045422, -1.66049581, -1.66056107, -1.66066489, -1.66076832,\n",
       "        -1.66087136, -1.66097401, -1.66108081, -1.66122242, -1.66136343]),\n",
       " 'split4_test_score': array([-1.4211061 , -1.42075442, -1.42041489, -1.42008724, -1.41977076,\n",
       "        -1.41950065, -1.41930487, -1.41911398, -1.41892767, -1.41874565,\n",
       "        -1.41856762, -1.41839333, -1.41822255, -1.41805505, -1.41789064,\n",
       "        -1.41776308, -1.41764138, -1.41752202, -1.41740485, -1.41728974,\n",
       "        -1.41717657, -1.41706524, -1.41695564, -1.41684767, -1.41674126,\n",
       "        -1.41663631, -1.41653276, -1.41643054, -1.41632959, -1.41622985,\n",
       "        -1.41613126, -1.41603377, -1.41593735, -1.41584193, -1.41576875,\n",
       "        -1.41574072, -1.41572914, -1.41573392, -1.41573902, -1.41574441,\n",
       "        -1.41575006, -1.41575594, -1.41576204, -1.41576834, -1.41577482,\n",
       "        -1.41578146, -1.41578825, -1.41579517, -1.41580221, -1.41582481,\n",
       "        -1.41585992, -1.41589494, -1.41592987, -1.41596471, -1.41599943,\n",
       "        -1.41603404, -1.4160746 , -1.41613439, -1.416226  , -1.41633941,\n",
       "        -1.41645233, -1.41656475, -1.41667668, -1.41678811, -1.41689905,\n",
       "        -1.41700948, -1.41712035, -1.41724274, -1.41736455, -1.41748578,\n",
       "        -1.41760643, -1.4177265 , -1.41784599, -1.4179649 , -1.41808324,\n",
       "        -1.418201  , -1.41831819, -1.41843482, -1.41855087, -1.41866636,\n",
       "        -1.41878129, -1.41889983, -1.41905154, -1.41920247, -1.41935262,\n",
       "        -1.41950201, -1.41965063, -1.41979849, -1.4199456 , -1.42009195,\n",
       "        -1.42023757, -1.42038743, -1.42056704, -1.42074571, -1.42092936,\n",
       "        -1.42112236, -1.42131416, -1.42150475, -1.42169416, -1.4218824 ]),\n",
       " 'split5_test_score': array([-1.61532499, -1.61427575, -1.61355177, -1.61298937, -1.61251505,\n",
       "        -1.61214935, -1.61182713, -1.61152322, -1.61123044, -1.61094427,\n",
       "        -1.61066181, -1.6103812 , -1.61010121, -1.60982104, -1.60954019,\n",
       "        -1.60925836, -1.60897539, -1.60870491, -1.60844329, -1.60818023,\n",
       "        -1.60791581, -1.60765011, -1.60738324, -1.60711531, -1.60684642,\n",
       "        -1.60657669, -1.60630624, -1.60603516, -1.60576356, -1.6054994 ,\n",
       "        -1.60526669, -1.60503356, -1.6048001 , -1.6045664 , -1.60434639,\n",
       "        -1.60414494, -1.60394322, -1.60374129, -1.60353921, -1.60333704,\n",
       "        -1.60313483, -1.60293264, -1.60273051, -1.60252849, -1.60232662,\n",
       "        -1.60212494, -1.60192349, -1.60174354, -1.60161349, -1.60150092,\n",
       "        -1.60138828, -1.60127559, -1.60119971, -1.60116168, -1.60115846,\n",
       "        -1.60117155, -1.60120489, -1.60124298, -1.60127996, -1.60131588,\n",
       "        -1.60135076, -1.60138464, -1.60141756, -1.60144955, -1.60148063,\n",
       "        -1.60151083, -1.60154019, -1.60156872, -1.60162334, -1.60172056,\n",
       "        -1.60185514, -1.60198849, -1.60212062, -1.60225156, -1.60238133,\n",
       "        -1.60252238, -1.60267429, -1.60282494, -1.60297434, -1.6031225 ,\n",
       "        -1.60326946, -1.60341522, -1.60355981, -1.60370324, -1.60387385,\n",
       "        -1.60405117, -1.60422718, -1.60440191, -1.60457537, -1.60474759,\n",
       "        -1.60491857, -1.60508833, -1.6052569 , -1.60542427, -1.60559047,\n",
       "        -1.60575707, -1.60593357, -1.60610887, -1.60628298, -1.60645592]),\n",
       " 'split6_test_score': array([-1.41028575, -1.4103882 , -1.41048861, -1.41063092, -1.41076961,\n",
       "        -1.41090468, -1.41108069, -1.41126436, -1.41145096, -1.41166339,\n",
       "        -1.4119042 , -1.4121407 , -1.41239416, -1.41265421, -1.41291004,\n",
       "        -1.41316176, -1.41340953, -1.41365368, -1.41391767, -1.41417777,\n",
       "        -1.41443413, -1.41468689, -1.41498797, -1.41529094, -1.41559039,\n",
       "        -1.41588641, -1.41617912, -1.41646862, -1.416755  , -1.41703836,\n",
       "        -1.41731877, -1.41759633, -1.41787111, -1.41814319, -1.41841263,\n",
       "        -1.41867951, -1.41894389, -1.41920584, -1.41946542, -1.41972267,\n",
       "        -1.41997766, -1.42023044, -1.42048106, -1.42072957, -1.42097601,\n",
       "        -1.42122042, -1.42146286, -1.42170336, -1.42194195, -1.42217869,\n",
       "        -1.42241359, -1.42264671, -1.42287807, -1.4231077 , -1.42333565,\n",
       "        -1.42356192, -1.42378656, -1.4240096 , -1.42423106, -1.42445096,\n",
       "        -1.42466934, -1.42488622, -1.42510162, -1.42531556, -1.42552807,\n",
       "        -1.42573917, -1.42594888, -1.42615722, -1.42636422, -1.42659625,\n",
       "        -1.42684169, -1.42708561, -1.42732803, -1.42756896, -1.42780842,\n",
       "        -1.42804645, -1.42828304, -1.42851822, -1.42875201, -1.42898442,\n",
       "        -1.42921547, -1.42944517, -1.42967355, -1.42990242, -1.43017976,\n",
       "        -1.43047883, -1.43078667, -1.43110959, -1.43143068, -1.43174995,\n",
       "        -1.43206743, -1.43238313, -1.43269707, -1.43302847, -1.43337108,\n",
       "        -1.43372744, -1.43408188, -1.43443442, -1.43478724, -1.43514715]),\n",
       " 'split7_test_score': array([-1.55347971, -1.55293411, -1.55247831, -1.55208232, -1.55173461,\n",
       "        -1.55142822, -1.55115805, -1.55092002, -1.55071075, -1.55052737,\n",
       "        -1.55036738, -1.55022861, -1.55010916, -1.55000733, -1.54992164,\n",
       "        -1.54985075, -1.54979344, -1.54974866, -1.54971542, -1.5496947 ,\n",
       "        -1.54970995, -1.5497342 , -1.54976677, -1.54980708, -1.54985455,\n",
       "        -1.5499087 , -1.54998066, -1.55010448, -1.55024262, -1.5503848 ,\n",
       "        -1.55053072, -1.5506801 , -1.55083268, -1.55100161, -1.55117659,\n",
       "        -1.55139961, -1.55164233, -1.55188674, -1.55213269, -1.55238002,\n",
       "        -1.55262858, -1.55287824, -1.55312889, -1.55338039, -1.55363265,\n",
       "        -1.55388556, -1.55415208, -1.55445701, -1.55476102, -1.55506408,\n",
       "        -1.55536616, -1.55567695, -1.55602148, -1.55636469, -1.55670656,\n",
       "        -1.55704708, -1.55738624, -1.55772402, -1.55806043, -1.55839544,\n",
       "        -1.55872905, -1.55906126, -1.55939206, -1.55972145, -1.56004942,\n",
       "        -1.56037597, -1.5607011 , -1.56102481, -1.56135632, -1.56175958,\n",
       "        -1.5621609 , -1.5625603 , -1.56295777, -1.56335333, -1.56374697,\n",
       "        -1.56413871, -1.56452856, -1.56491651, -1.56530259, -1.56568678,\n",
       "        -1.56606912, -1.56644959, -1.56682821, -1.567205  , -1.56757994,\n",
       "        -1.56795307, -1.56832438, -1.56869388, -1.56906159, -1.56942751,\n",
       "        -1.56979165, -1.57015402, -1.57051463, -1.57087349, -1.57123061,\n",
       "        -1.571586  , -1.57193967, -1.57229162, -1.57264188, -1.57299044]),\n",
       " 'split8_test_score': array([-1.50712024, -1.50754842, -1.50795345, -1.50831241, -1.50862955,\n",
       "        -1.50890946, -1.50915632, -1.50937379, -1.50956505, -1.50974403,\n",
       "        -1.50991427, -1.51006546, -1.51019943, -1.51031781, -1.51042203,\n",
       "        -1.51051335, -1.51060089, -1.51069372, -1.51077642, -1.51084983,\n",
       "        -1.51091467, -1.51097163, -1.51102131, -1.51111524, -1.51120819,\n",
       "        -1.51129915, -1.51139675, -1.51148897, -1.51158068, -1.51169247,\n",
       "        -1.5118424 , -1.51201369, -1.51219265, -1.51236698, -1.51253689,\n",
       "        -1.51271541, -1.51289308, -1.51306683, -1.51323685, -1.5134033 ,\n",
       "        -1.51356634, -1.51373346, -1.51392619, -1.51414162, -1.51439233,\n",
       "        -1.51463967, -1.51489985, -1.51519242, -1.51548191, -1.5157684 ,\n",
       "        -1.51605197, -1.51633271, -1.51664061, -1.51696408, -1.51728464,\n",
       "        -1.51760234, -1.51791726, -1.51822945, -1.51853898, -1.5188459 ,\n",
       "        -1.51915027, -1.51945214, -1.51975155, -1.52006412, -1.52040213,\n",
       "        -1.52073754, -1.52107041, -1.52140078, -1.52172869, -1.52205418,\n",
       "        -1.5223773 , -1.52269807, -1.52301654, -1.52333274, -1.52364671,\n",
       "        -1.52395848, -1.52427983, -1.52460311, -1.5249242 , -1.52524313,\n",
       "        -1.52555992, -1.52587462, -1.52618725, -1.52649783, -1.5268064 ,\n",
       "        -1.52711297, -1.52741758, -1.52772026, -1.52802101, -1.52831988,\n",
       "        -1.52861688, -1.52891203, -1.52921047, -1.52953695, -1.52989218,\n",
       "        -1.53024534, -1.53059647, -1.53094558, -1.5312927 , -1.53163784]),\n",
       " 'split9_test_score': array([-1.66439301, -1.66458539, -1.66477524, -1.66498561, -1.66521932,\n",
       "        -1.66547543, -1.66575207, -1.66604721, -1.66635891, -1.6666854 ,\n",
       "        -1.66702507, -1.66737647, -1.66773832, -1.66810945, -1.66848885,\n",
       "        -1.66887558, -1.6692846 , -1.66973685, -1.67020309, -1.67069164,\n",
       "        -1.67118363, -1.67167858, -1.67217605, -1.67267565, -1.67317702,\n",
       "        -1.67367983, -1.67418379, -1.67468862, -1.67519407, -1.67569993,\n",
       "        -1.67620599, -1.67671205, -1.67721795, -1.67772353, -1.67823604,\n",
       "        -1.67877324, -1.67930954, -1.67984484, -1.68037903, -1.68091202,\n",
       "        -1.68144373, -1.68197406, -1.68250296, -1.68303036, -1.68355619,\n",
       "        -1.6840804 , -1.68460461, -1.68514067, -1.68567486, -1.68620713,\n",
       "        -1.68675014, -1.68731544, -1.68789017, -1.68847068, -1.68905221,\n",
       "        -1.68964419, -1.69023338, -1.69081976, -1.69140335, -1.69198414,\n",
       "        -1.69256214, -1.69313736, -1.69370979, -1.69427945, -1.69484634,\n",
       "        -1.69541046, -1.69597184, -1.69653047, -1.69708636, -1.69763953,\n",
       "        -1.69818999, -1.69873774, -1.69928279, -1.69982517, -1.70036487,\n",
       "        -1.70090192, -1.70143632, -1.70197511, -1.70251532, -1.70310062,\n",
       "        -1.70370721, -1.70431927, -1.70492833, -1.7055344 , -1.7061375 ,\n",
       "        -1.70673765, -1.70733485, -1.70792914, -1.70852212, -1.70912203,\n",
       "        -1.70975489, -1.7103875 , -1.71101703, -1.71164349, -1.71226691,\n",
       "        -1.7128873 , -1.71352622, -1.71418067, -1.71483192, -1.71548   ]),\n",
       " 'mean_test_score': array([-1.60886744, -1.60817103, -1.60769623, -1.60732683, -1.60701901,\n",
       "        -1.60676606, -1.60660249, -1.60647228, -1.60639456, -1.60633906,\n",
       "        -1.60629716, -1.60626288, -1.60623722, -1.60621825, -1.60620574,\n",
       "        -1.60620518, -1.60621416, -1.60623375, -1.60626029, -1.60629529,\n",
       "        -1.60633535, -1.60637868, -1.60643607, -1.60650998, -1.6065865 ,\n",
       "        -1.6066652 , -1.60674836, -1.60683733, -1.60693087, -1.60702809,\n",
       "        -1.6071331 , -1.60724998, -1.60736866, -1.6074887 , -1.60761329,\n",
       "        -1.60775247, -1.60789511, -1.60803907, -1.60818271, -1.60832649,\n",
       "        -1.60847522, -1.60862627, -1.60877976, -1.60893679, -1.60910055,\n",
       "        -1.60926373, -1.6094294 , -1.60960838, -1.60979671, -1.60998755,\n",
       "        -1.61018504, -1.61038723, -1.61060422, -1.61082652, -1.61105149,\n",
       "        -1.61128348, -1.61151718, -1.61175209, -1.61199041, -1.61223018,\n",
       "        -1.61246862, -1.61270573, -1.61294152, -1.61317756, -1.61341509,\n",
       "        -1.61365638, -1.61389963, -1.61414272, -1.61438965, -1.61465108,\n",
       "        -1.61491638, -1.61518098, -1.61544463, -1.61570683, -1.61596758,\n",
       "        -1.61622815, -1.61649335, -1.61676212, -1.61702983, -1.61730459,\n",
       "        -1.61758302, -1.61786318, -1.61814518, -1.61842582, -1.61871273,\n",
       "        -1.6190012 , -1.61928916, -1.61957723, -1.61986552, -1.62015391,\n",
       "        -1.62044434, -1.62073399, -1.62103082, -1.62133584, -1.62164719,\n",
       "        -1.62196056, -1.62227553, -1.62259114, -1.62290882, -1.62322572]),\n",
       " 'std_test_score': array([0.12405612, 0.12362179, 0.1233112 , 0.12305155, 0.12283169,\n",
       "        0.12264101, 0.12251721, 0.12241916, 0.122374  , 0.12234145,\n",
       "        0.12231058, 0.12228664, 0.12226546, 0.12224808, 0.12223773,\n",
       "        0.12223181, 0.12223278, 0.12223864, 0.1222445 , 0.12225795,\n",
       "        0.1222733 , 0.12229176, 0.12230942, 0.12233538, 0.12236403,\n",
       "        0.12239461, 0.12242598, 0.12245728, 0.12249162, 0.12252544,\n",
       "        0.12255727, 0.12259902, 0.12264162, 0.12268479, 0.122726  ,\n",
       "        0.12275967, 0.12279086, 0.12282058, 0.12285131, 0.12288338,\n",
       "        0.12292269, 0.12296484, 0.12300555, 0.12304685, 0.12309029,\n",
       "        0.12313441, 0.12317745, 0.12322116, 0.12327051, 0.1233179 ,\n",
       "        0.12337085, 0.12342817, 0.12348835, 0.12354767, 0.12360722,\n",
       "        0.12367192, 0.12373591, 0.12379696, 0.12385503, 0.12391048,\n",
       "        0.1239661 , 0.12402189, 0.12407783, 0.12413274, 0.12418571,\n",
       "        0.12424536, 0.12430906, 0.1243709 , 0.12443414, 0.12449188,\n",
       "        0.12454701, 0.12460248, 0.12465816, 0.12471388, 0.12476962,\n",
       "        0.12482524, 0.12488181, 0.12494078, 0.12499998, 0.12506677,\n",
       "        0.12513695, 0.12520762, 0.12527281, 0.12533763, 0.12539454,\n",
       "        0.12544779, 0.12549944, 0.12554854, 0.12559981, 0.12565262,\n",
       "        0.12570794, 0.12576264, 0.12581481, 0.1258638 , 0.12591097,\n",
       "        0.12595503, 0.12600052, 0.12604751, 0.12609525, 0.12614164]),\n",
       " 'rank_test_score': array([ 43,  37,  33,  29,  25,  22,  19,  16,  14,  12,  10,   8,   6,\n",
       "          4,   2,   1,   3,   5,   7,   9,  11,  13,  15,  17,  18,  20,\n",
       "         21,  23,  24,  26,  27,  28,  30,  31,  32,  34,  35,  36,  38,\n",
       "         39,  40,  41,  42,  44,  45,  46,  47,  48,  49,  50,  51,  52,\n",
       "         53,  54,  55,  56,  57,  58,  59,  60,  61,  62,  63,  64,  65,\n",
       "         66,  67,  68,  69,  70,  71,  72,  73,  74,  75,  76,  77,  78,\n",
       "         79,  80,  81,  82,  83,  84,  85,  86,  87,  88,  89,  90,  91,\n",
       "         92,  93,  94,  95,  96,  97,  98,  99, 100])}"
      ]
     },
     "execution_count": 71,
     "metadata": {},
     "output_type": "execute_result"
    }
   ],
   "source": [
    "grid_search.cv_results_"
   ]
  },
  {
   "cell_type": "markdown",
   "metadata": {
    "id": "aerSr3DYTmsD"
   },
   "source": [
    " if you want you can now fit a ridge regression model with obtained value of alpha , although there is no need, grid search automatically fits the best estimator on the entire data, you can directly use this to make predictions on test_data. But if you want to look at coefficients , its much more convenient to fit the model with direct function"
   ]
  },
  {
   "cell_type": "markdown",
   "metadata": {
    "id": "4JFQnRV4TmsD"
   },
   "source": [
    "Using the report function given below you can see the cv performance of top few models as well, that will the tentative performance"
   ]
  },
  {
   "cell_type": "code",
   "execution_count": 72,
   "metadata": {
    "id": "ohH659QvTmsE"
   },
   "outputs": [],
   "source": [
    "def report(results, n_top=3):\n",
    "    for i in range(1, n_top + 1):\n",
    "        candidates = np.flatnonzero(results['rank_test_score'] == i)\n",
    "        for candidate in candidates:\n",
    "            print(\"Model with rank: {0}\".format(i))\n",
    "            print(\"Mean validation score: {0:.3f} (std: {1:.3f})\".format(\n",
    "                  results['mean_test_score'][candidate],\n",
    "                  results['std_test_score'][candidate]))\n",
    "            print(\"Parameters: {0}\".format(results['params'][candidate]))\n",
    "            print(\"\")"
   ]
  },
  {
   "cell_type": "code",
   "execution_count": 73,
   "metadata": {
    "id": "Wof1bMFcTmsE",
    "outputId": "3fd9ddba-8c10-4f11-8ef5-d98629d22cf0"
   },
   "outputs": [
    {
     "name": "stdout",
     "output_type": "stream",
     "text": [
      "Model with rank: 1\n",
      "Mean validation score: -1.606 (std: 0.122)\n",
      "Parameters: {'alpha': 16.0}\n",
      "\n",
      "Model with rank: 2\n",
      "Mean validation score: -1.606 (std: 0.122)\n",
      "Parameters: {'alpha': 15.0}\n",
      "\n",
      "Model with rank: 3\n",
      "Mean validation score: -1.606 (std: 0.122)\n",
      "Parameters: {'alpha': 17.0}\n",
      "\n",
      "Model with rank: 4\n",
      "Mean validation score: -1.606 (std: 0.122)\n",
      "Parameters: {'alpha': 14.0}\n",
      "\n",
      "Model with rank: 5\n",
      "Mean validation score: -1.606 (std: 0.122)\n",
      "Parameters: {'alpha': 18.0}\n",
      "\n",
      "Model with rank: 6\n",
      "Mean validation score: -1.606 (std: 0.122)\n",
      "Parameters: {'alpha': 13.0}\n",
      "\n",
      "Model with rank: 7\n",
      "Mean validation score: -1.606 (std: 0.122)\n",
      "Parameters: {'alpha': 19.0}\n",
      "\n",
      "Model with rank: 8\n",
      "Mean validation score: -1.606 (std: 0.122)\n",
      "Parameters: {'alpha': 12.0}\n",
      "\n",
      "Model with rank: 9\n",
      "Mean validation score: -1.606 (std: 0.122)\n",
      "Parameters: {'alpha': 20.0}\n",
      "\n",
      "Model with rank: 10\n",
      "Mean validation score: -1.606 (std: 0.122)\n",
      "Parameters: {'alpha': 11.0}\n",
      "\n",
      "Model with rank: 11\n",
      "Mean validation score: -1.606 (std: 0.122)\n",
      "Parameters: {'alpha': 21.0}\n",
      "\n",
      "Model with rank: 12\n",
      "Mean validation score: -1.606 (std: 0.122)\n",
      "Parameters: {'alpha': 10.0}\n",
      "\n",
      "Model with rank: 13\n",
      "Mean validation score: -1.606 (std: 0.122)\n",
      "Parameters: {'alpha': 22.0}\n",
      "\n",
      "Model with rank: 14\n",
      "Mean validation score: -1.606 (std: 0.122)\n",
      "Parameters: {'alpha': 9.0}\n",
      "\n",
      "Model with rank: 15\n",
      "Mean validation score: -1.606 (std: 0.122)\n",
      "Parameters: {'alpha': 23.0}\n",
      "\n",
      "Model with rank: 16\n",
      "Mean validation score: -1.606 (std: 0.122)\n",
      "Parameters: {'alpha': 8.0}\n",
      "\n",
      "Model with rank: 17\n",
      "Mean validation score: -1.607 (std: 0.122)\n",
      "Parameters: {'alpha': 24.0}\n",
      "\n",
      "Model with rank: 18\n",
      "Mean validation score: -1.607 (std: 0.122)\n",
      "Parameters: {'alpha': 25.0}\n",
      "\n",
      "Model with rank: 19\n",
      "Mean validation score: -1.607 (std: 0.123)\n",
      "Parameters: {'alpha': 7.0}\n",
      "\n",
      "Model with rank: 20\n",
      "Mean validation score: -1.607 (std: 0.122)\n",
      "Parameters: {'alpha': 26.0}\n",
      "\n",
      "Model with rank: 21\n",
      "Mean validation score: -1.607 (std: 0.122)\n",
      "Parameters: {'alpha': 27.0}\n",
      "\n",
      "Model with rank: 22\n",
      "Mean validation score: -1.607 (std: 0.123)\n",
      "Parameters: {'alpha': 6.0}\n",
      "\n",
      "Model with rank: 23\n",
      "Mean validation score: -1.607 (std: 0.122)\n",
      "Parameters: {'alpha': 28.0}\n",
      "\n",
      "Model with rank: 24\n",
      "Mean validation score: -1.607 (std: 0.122)\n",
      "Parameters: {'alpha': 29.0}\n",
      "\n",
      "Model with rank: 25\n",
      "Mean validation score: -1.607 (std: 0.123)\n",
      "Parameters: {'alpha': 5.0}\n",
      "\n",
      "Model with rank: 26\n",
      "Mean validation score: -1.607 (std: 0.123)\n",
      "Parameters: {'alpha': 30.0}\n",
      "\n",
      "Model with rank: 27\n",
      "Mean validation score: -1.607 (std: 0.123)\n",
      "Parameters: {'alpha': 31.0}\n",
      "\n",
      "Model with rank: 28\n",
      "Mean validation score: -1.607 (std: 0.123)\n",
      "Parameters: {'alpha': 32.0}\n",
      "\n",
      "Model with rank: 29\n",
      "Mean validation score: -1.607 (std: 0.123)\n",
      "Parameters: {'alpha': 4.0}\n",
      "\n",
      "Model with rank: 30\n",
      "Mean validation score: -1.607 (std: 0.123)\n",
      "Parameters: {'alpha': 33.0}\n",
      "\n",
      "Model with rank: 31\n",
      "Mean validation score: -1.607 (std: 0.123)\n",
      "Parameters: {'alpha': 34.0}\n",
      "\n",
      "Model with rank: 32\n",
      "Mean validation score: -1.608 (std: 0.123)\n",
      "Parameters: {'alpha': 35.0}\n",
      "\n",
      "Model with rank: 33\n",
      "Mean validation score: -1.608 (std: 0.123)\n",
      "Parameters: {'alpha': 3.0}\n",
      "\n",
      "Model with rank: 34\n",
      "Mean validation score: -1.608 (std: 0.123)\n",
      "Parameters: {'alpha': 36.0}\n",
      "\n",
      "Model with rank: 35\n",
      "Mean validation score: -1.608 (std: 0.123)\n",
      "Parameters: {'alpha': 37.0}\n",
      "\n",
      "Model with rank: 36\n",
      "Mean validation score: -1.608 (std: 0.123)\n",
      "Parameters: {'alpha': 38.0}\n",
      "\n",
      "Model with rank: 37\n",
      "Mean validation score: -1.608 (std: 0.124)\n",
      "Parameters: {'alpha': 2.0}\n",
      "\n",
      "Model with rank: 38\n",
      "Mean validation score: -1.608 (std: 0.123)\n",
      "Parameters: {'alpha': 39.0}\n",
      "\n",
      "Model with rank: 39\n",
      "Mean validation score: -1.608 (std: 0.123)\n",
      "Parameters: {'alpha': 40.0}\n",
      "\n",
      "Model with rank: 40\n",
      "Mean validation score: -1.608 (std: 0.123)\n",
      "Parameters: {'alpha': 41.0}\n",
      "\n",
      "Model with rank: 41\n",
      "Mean validation score: -1.609 (std: 0.123)\n",
      "Parameters: {'alpha': 42.0}\n",
      "\n",
      "Model with rank: 42\n",
      "Mean validation score: -1.609 (std: 0.123)\n",
      "Parameters: {'alpha': 43.0}\n",
      "\n",
      "Model with rank: 43\n",
      "Mean validation score: -1.609 (std: 0.124)\n",
      "Parameters: {'alpha': 1.0}\n",
      "\n",
      "Model with rank: 44\n",
      "Mean validation score: -1.609 (std: 0.123)\n",
      "Parameters: {'alpha': 44.0}\n",
      "\n",
      "Model with rank: 45\n",
      "Mean validation score: -1.609 (std: 0.123)\n",
      "Parameters: {'alpha': 45.0}\n",
      "\n",
      "Model with rank: 46\n",
      "Mean validation score: -1.609 (std: 0.123)\n",
      "Parameters: {'alpha': 46.0}\n",
      "\n",
      "Model with rank: 47\n",
      "Mean validation score: -1.609 (std: 0.123)\n",
      "Parameters: {'alpha': 47.0}\n",
      "\n",
      "Model with rank: 48\n",
      "Mean validation score: -1.610 (std: 0.123)\n",
      "Parameters: {'alpha': 48.0}\n",
      "\n",
      "Model with rank: 49\n",
      "Mean validation score: -1.610 (std: 0.123)\n",
      "Parameters: {'alpha': 49.0}\n",
      "\n",
      "Model with rank: 50\n",
      "Mean validation score: -1.610 (std: 0.123)\n",
      "Parameters: {'alpha': 50.0}\n",
      "\n",
      "Model with rank: 51\n",
      "Mean validation score: -1.610 (std: 0.123)\n",
      "Parameters: {'alpha': 51.0}\n",
      "\n",
      "Model with rank: 52\n",
      "Mean validation score: -1.610 (std: 0.123)\n",
      "Parameters: {'alpha': 52.0}\n",
      "\n",
      "Model with rank: 53\n",
      "Mean validation score: -1.611 (std: 0.123)\n",
      "Parameters: {'alpha': 53.0}\n",
      "\n",
      "Model with rank: 54\n",
      "Mean validation score: -1.611 (std: 0.124)\n",
      "Parameters: {'alpha': 54.0}\n",
      "\n",
      "Model with rank: 55\n",
      "Mean validation score: -1.611 (std: 0.124)\n",
      "Parameters: {'alpha': 55.0}\n",
      "\n",
      "Model with rank: 56\n",
      "Mean validation score: -1.611 (std: 0.124)\n",
      "Parameters: {'alpha': 56.0}\n",
      "\n",
      "Model with rank: 57\n",
      "Mean validation score: -1.612 (std: 0.124)\n",
      "Parameters: {'alpha': 57.0}\n",
      "\n",
      "Model with rank: 58\n",
      "Mean validation score: -1.612 (std: 0.124)\n",
      "Parameters: {'alpha': 58.0}\n",
      "\n",
      "Model with rank: 59\n",
      "Mean validation score: -1.612 (std: 0.124)\n",
      "Parameters: {'alpha': 59.0}\n",
      "\n",
      "Model with rank: 60\n",
      "Mean validation score: -1.612 (std: 0.124)\n",
      "Parameters: {'alpha': 60.0}\n",
      "\n",
      "Model with rank: 61\n",
      "Mean validation score: -1.612 (std: 0.124)\n",
      "Parameters: {'alpha': 61.0}\n",
      "\n",
      "Model with rank: 62\n",
      "Mean validation score: -1.613 (std: 0.124)\n",
      "Parameters: {'alpha': 62.0}\n",
      "\n",
      "Model with rank: 63\n",
      "Mean validation score: -1.613 (std: 0.124)\n",
      "Parameters: {'alpha': 63.0}\n",
      "\n",
      "Model with rank: 64\n",
      "Mean validation score: -1.613 (std: 0.124)\n",
      "Parameters: {'alpha': 64.0}\n",
      "\n",
      "Model with rank: 65\n",
      "Mean validation score: -1.613 (std: 0.124)\n",
      "Parameters: {'alpha': 65.0}\n",
      "\n",
      "Model with rank: 66\n",
      "Mean validation score: -1.614 (std: 0.124)\n",
      "Parameters: {'alpha': 66.0}\n",
      "\n",
      "Model with rank: 67\n",
      "Mean validation score: -1.614 (std: 0.124)\n",
      "Parameters: {'alpha': 67.0}\n",
      "\n",
      "Model with rank: 68\n",
      "Mean validation score: -1.614 (std: 0.124)\n",
      "Parameters: {'alpha': 68.0}\n",
      "\n",
      "Model with rank: 69\n",
      "Mean validation score: -1.614 (std: 0.124)\n",
      "Parameters: {'alpha': 69.0}\n",
      "\n",
      "Model with rank: 70\n",
      "Mean validation score: -1.615 (std: 0.124)\n",
      "Parameters: {'alpha': 70.0}\n",
      "\n",
      "Model with rank: 71\n",
      "Mean validation score: -1.615 (std: 0.125)\n",
      "Parameters: {'alpha': 71.0}\n",
      "\n",
      "Model with rank: 72\n",
      "Mean validation score: -1.615 (std: 0.125)\n",
      "Parameters: {'alpha': 72.0}\n",
      "\n",
      "Model with rank: 73\n",
      "Mean validation score: -1.615 (std: 0.125)\n",
      "Parameters: {'alpha': 73.0}\n",
      "\n",
      "Model with rank: 74\n",
      "Mean validation score: -1.616 (std: 0.125)\n",
      "Parameters: {'alpha': 74.0}\n",
      "\n",
      "Model with rank: 75\n",
      "Mean validation score: -1.616 (std: 0.125)\n",
      "Parameters: {'alpha': 75.0}\n",
      "\n",
      "Model with rank: 76\n",
      "Mean validation score: -1.616 (std: 0.125)\n",
      "Parameters: {'alpha': 76.0}\n",
      "\n",
      "Model with rank: 77\n",
      "Mean validation score: -1.616 (std: 0.125)\n",
      "Parameters: {'alpha': 77.0}\n",
      "\n",
      "Model with rank: 78\n",
      "Mean validation score: -1.617 (std: 0.125)\n",
      "Parameters: {'alpha': 78.0}\n",
      "\n",
      "Model with rank: 79\n",
      "Mean validation score: -1.617 (std: 0.125)\n",
      "Parameters: {'alpha': 79.0}\n",
      "\n",
      "Model with rank: 80\n",
      "Mean validation score: -1.617 (std: 0.125)\n",
      "Parameters: {'alpha': 80.0}\n",
      "\n",
      "Model with rank: 81\n",
      "Mean validation score: -1.618 (std: 0.125)\n",
      "Parameters: {'alpha': 81.0}\n",
      "\n",
      "Model with rank: 82\n",
      "Mean validation score: -1.618 (std: 0.125)\n",
      "Parameters: {'alpha': 82.0}\n",
      "\n",
      "Model with rank: 83\n",
      "Mean validation score: -1.618 (std: 0.125)\n",
      "Parameters: {'alpha': 83.0}\n",
      "\n",
      "Model with rank: 84\n",
      "Mean validation score: -1.618 (std: 0.125)\n",
      "Parameters: {'alpha': 84.0}\n",
      "\n",
      "Model with rank: 85\n",
      "Mean validation score: -1.619 (std: 0.125)\n",
      "Parameters: {'alpha': 85.0}\n",
      "\n",
      "Model with rank: 86\n",
      "Mean validation score: -1.619 (std: 0.125)\n",
      "Parameters: {'alpha': 86.0}\n",
      "\n",
      "Model with rank: 87\n",
      "Mean validation score: -1.619 (std: 0.125)\n",
      "Parameters: {'alpha': 87.0}\n",
      "\n",
      "Model with rank: 88\n",
      "Mean validation score: -1.620 (std: 0.126)\n",
      "Parameters: {'alpha': 88.0}\n",
      "\n",
      "Model with rank: 89\n",
      "Mean validation score: -1.620 (std: 0.126)\n",
      "Parameters: {'alpha': 89.0}\n",
      "\n",
      "Model with rank: 90\n",
      "Mean validation score: -1.620 (std: 0.126)\n",
      "Parameters: {'alpha': 90.0}\n",
      "\n",
      "Model with rank: 91\n",
      "Mean validation score: -1.620 (std: 0.126)\n",
      "Parameters: {'alpha': 91.0}\n",
      "\n",
      "Model with rank: 92\n",
      "Mean validation score: -1.621 (std: 0.126)\n",
      "Parameters: {'alpha': 92.0}\n",
      "\n",
      "Model with rank: 93\n",
      "Mean validation score: -1.621 (std: 0.126)\n",
      "Parameters: {'alpha': 93.0}\n",
      "\n",
      "Model with rank: 94\n",
      "Mean validation score: -1.621 (std: 0.126)\n",
      "Parameters: {'alpha': 94.0}\n",
      "\n",
      "Model with rank: 95\n",
      "Mean validation score: -1.622 (std: 0.126)\n",
      "Parameters: {'alpha': 95.0}\n",
      "\n",
      "Model with rank: 96\n",
      "Mean validation score: -1.622 (std: 0.126)\n",
      "Parameters: {'alpha': 96.0}\n",
      "\n",
      "Model with rank: 97\n",
      "Mean validation score: -1.622 (std: 0.126)\n",
      "Parameters: {'alpha': 97.0}\n",
      "\n",
      "Model with rank: 98\n",
      "Mean validation score: -1.623 (std: 0.126)\n",
      "Parameters: {'alpha': 98.0}\n",
      "\n",
      "Model with rank: 99\n",
      "Mean validation score: -1.623 (std: 0.126)\n",
      "Parameters: {'alpha': 99.0}\n",
      "\n",
      "Model with rank: 100\n",
      "Mean validation score: -1.623 (std: 0.126)\n",
      "Parameters: {'alpha': 100.0}\n",
      "\n"
     ]
    }
   ],
   "source": [
    "report(grid_search.cv_results_,100)"
   ]
  },
  {
   "cell_type": "code",
   "execution_count": 74,
   "metadata": {
    "id": "ATX5Ua6iTmsE"
   },
   "outputs": [],
   "source": [
    "test_pred=grid_search.predict(ld_test)"
   ]
  },
  {
   "cell_type": "code",
   "execution_count": 75,
   "metadata": {
    "id": "RPabGtzRTmsE"
   },
   "outputs": [],
   "source": [
    "pd.DataFrame(test_pred).to_csv(\"mysubmission.csv\",index=False)"
   ]
  },
  {
   "cell_type": "markdown",
   "metadata": {
    "collapsed": true,
    "id": "LnXywHjQTmsE"
   },
   "source": [
    "## For looking at coefficients"
   ]
  },
  {
   "cell_type": "code",
   "execution_count": 76,
   "metadata": {
    "id": "hIOjbTu1TmsF"
   },
   "outputs": [],
   "source": [
    "ridge_model=grid_search.best_estimator_"
   ]
  },
  {
   "cell_type": "code",
   "execution_count": 77,
   "metadata": {
    "id": "R2rHqd29TmsF",
    "outputId": "8c433b9f-2824-4445-d5b8-319bd2a628a2"
   },
   "outputs": [
    {
     "data": {
      "text/plain": [
       "Ridge(alpha=16.0)"
      ]
     },
     "execution_count": 77,
     "metadata": {},
     "output_type": "execute_result"
    }
   ],
   "source": [
    "ridge_model.fit(x_train,y_train)"
   ]
  },
  {
   "cell_type": "code",
   "execution_count": 78,
   "metadata": {
    "id": "oLjAGZsWTmsF",
    "outputId": "34360056-1eae-4f87-cca3-63696bb1412d"
   },
   "outputs": [
    {
     "data": {
      "text/plain": [
       "[('Amount.Requested', 0.0001635974910731972),\n",
       " ('Debt.To.Income.Ratio', 0.000925237357183732),\n",
       " ('Monthly.Income', -2.7883676086291474e-05),\n",
       " ('Open.CREDIT.Lines', -0.03614747527254623),\n",
       " ('Revolving.CREDIT.Balance', -3.017260103849284e-06),\n",
       " ('Inquiries.in.the.Last.6.Months', 0.3377046042246788),\n",
       " ('Employment.Length', 0.015555464242855348),\n",
       " ('fico', -0.08661778441641284),\n",
       " ('loan_period', 2.993068602444583),\n",
       " ('car', -0.07772188336457068),\n",
       " ('credit_card', -0.48423838051807944),\n",
       " ('debt_consolidation', -0.3738771996953248),\n",
       " ('educational', 0.07962731819829273),\n",
       " ('home_improvement', -0.2662983405896122),\n",
       " ('house', 0.16837762344806442),\n",
       " ('major_purchase', -0.03476813924477771),\n",
       " ('medical', -0.1397960425468605),\n",
       " ('moving', 0.6428396912002898),\n",
       " ('other', 0.40244262738775255),\n",
       " ('renewable_energy', 0.02383532227035336),\n",
       " ('small_business', 0.10274050164196268),\n",
       " ('vacation', 0.3255801381368458),\n",
       " ('wedding', -0.4452627483194988),\n",
       " ('MORTGAGE', -0.2313201220044855),\n",
       " ('OWN', 0.088997106890416),\n",
       " ('RENT', -0.028652799037925034)]"
      ]
     },
     "execution_count": 78,
     "metadata": {},
     "output_type": "execute_result"
    }
   ],
   "source": [
    "list(zip(x_train1.columns,ridge_model.coef_))"
   ]
  },
  {
   "cell_type": "markdown",
   "metadata": {
    "id": "G6p7TjLLTmsF"
   },
   "source": [
    "## Lasso Regression"
   ]
  },
  {
   "cell_type": "code",
   "execution_count": 79,
   "metadata": {
    "id": "Z32gqyBLTmsF"
   },
   "outputs": [],
   "source": [
    "lambdas=np.linspace(1,10,100)\n",
    "model=Lasso(fit_intercept=True)\n",
    "params={'alpha':lambdas}"
   ]
  },
  {
   "cell_type": "code",
   "execution_count": 80,
   "metadata": {
    "id": "3L4DPZg_TmsG"
   },
   "outputs": [],
   "source": [
    "grid_search=GridSearchCV(model,param_grid=params,cv=10,scoring='neg_mean_absolute_error')"
   ]
  },
  {
   "cell_type": "code",
   "execution_count": 81,
   "metadata": {
    "id": "3ntnPj3TTmsG",
    "outputId": "a5ca6097-b44c-4115-bdf5-0bc1ea0d0860"
   },
   "outputs": [
    {
     "data": {
      "text/plain": [
       "GridSearchCV(cv=10, estimator=Lasso(),\n",
       "             param_grid={'alpha': array([ 1.        ,  1.09090909,  1.18181818,  1.27272727,  1.36363636,\n",
       "        1.45454545,  1.54545455,  1.63636364,  1.72727273,  1.81818182,\n",
       "        1.90909091,  2.        ,  2.09090909,  2.18181818,  2.27272727,\n",
       "        2.36363636,  2.45454545,  2.54545455,  2.63636364,  2.72727273,\n",
       "        2.81818182,  2.90909091,  3.        ,  3.09090909,  3.18181818,\n",
       "        3.27272727,  3.36363636,  3.45454545,  3....\n",
       "        6.90909091,  7.        ,  7.09090909,  7.18181818,  7.27272727,\n",
       "        7.36363636,  7.45454545,  7.54545455,  7.63636364,  7.72727273,\n",
       "        7.81818182,  7.90909091,  8.        ,  8.09090909,  8.18181818,\n",
       "        8.27272727,  8.36363636,  8.45454545,  8.54545455,  8.63636364,\n",
       "        8.72727273,  8.81818182,  8.90909091,  9.        ,  9.09090909,\n",
       "        9.18181818,  9.27272727,  9.36363636,  9.45454545,  9.54545455,\n",
       "        9.63636364,  9.72727273,  9.81818182,  9.90909091, 10.        ])},\n",
       "             scoring='neg_mean_absolute_error')"
      ]
     },
     "execution_count": 81,
     "metadata": {},
     "output_type": "execute_result"
    }
   ],
   "source": [
    "grid_search.fit(x_train,y_train)"
   ]
  },
  {
   "cell_type": "code",
   "execution_count": 82,
   "metadata": {
    "id": "SEIbasanTmsG",
    "outputId": "233ac1f7-867b-42ab-e683-a62e697de8c6"
   },
   "outputs": [
    {
     "data": {
      "text/plain": [
       "Lasso()"
      ]
     },
     "execution_count": 82,
     "metadata": {},
     "output_type": "execute_result"
    }
   ],
   "source": [
    "grid_search.best_estimator_"
   ]
  },
  {
   "cell_type": "markdown",
   "metadata": {
    "id": "sciclT7qTmsG"
   },
   "source": [
    "you can see that, the best value of alpha comes at the edge of the range that we tried , we should expand the trial range on that side and run this again"
   ]
  },
  {
   "cell_type": "code",
   "execution_count": 83,
   "metadata": {
    "id": "YL2ESHppTmsG"
   },
   "outputs": [],
   "source": [
    "lambdas=np.linspace(.001,2,100)\n",
    "params={'alpha':lambdas}"
   ]
  },
  {
   "cell_type": "code",
   "execution_count": 84,
   "metadata": {
    "id": "qznOapOPTmsH",
    "outputId": "db569258-f085-49e2-c182-58ba03e645e0"
   },
   "outputs": [
    {
     "data": {
      "text/plain": [
       "GridSearchCV(cv=10, estimator=Lasso(),\n",
       "             param_grid={'alpha': array([1.00000000e-03, 2.11919192e-02, 4.13838384e-02, 6.15757576e-02,\n",
       "       8.17676768e-02, 1.01959596e-01, 1.22151515e-01, 1.42343434e-01,\n",
       "       1.62535354e-01, 1.82727273e-01, 2.02919192e-01, 2.23111111e-01,\n",
       "       2.43303030e-01, 2.63494949e-01, 2.83686869e-01, 3.03878788e-01,\n",
       "       3.24070707e-01, 3.44262626e-01, 3.64454545e-01, 3...\n",
       "       1.53558586e+00, 1.55577778e+00, 1.57596970e+00, 1.59616162e+00,\n",
       "       1.61635354e+00, 1.63654545e+00, 1.65673737e+00, 1.67692929e+00,\n",
       "       1.69712121e+00, 1.71731313e+00, 1.73750505e+00, 1.75769697e+00,\n",
       "       1.77788889e+00, 1.79808081e+00, 1.81827273e+00, 1.83846465e+00,\n",
       "       1.85865657e+00, 1.87884848e+00, 1.89904040e+00, 1.91923232e+00,\n",
       "       1.93942424e+00, 1.95961616e+00, 1.97980808e+00, 2.00000000e+00])},\n",
       "             scoring='neg_mean_absolute_error')"
      ]
     },
     "execution_count": 84,
     "metadata": {},
     "output_type": "execute_result"
    }
   ],
   "source": [
    "grid_search=GridSearchCV(model,param_grid=params,cv=10,scoring='neg_mean_absolute_error')\n",
    "grid_search.fit(x_train,y_train)"
   ]
  },
  {
   "cell_type": "code",
   "execution_count": 85,
   "metadata": {
    "id": "EnRUsx7oTmsH",
    "outputId": "38daa35c-22e3-489b-e797-759d2518a2c5"
   },
   "outputs": [
    {
     "data": {
      "text/plain": [
       "Lasso(alpha=0.021191919191919192)"
      ]
     },
     "execution_count": 85,
     "metadata": {},
     "output_type": "execute_result"
    }
   ],
   "source": [
    "grid_search.best_estimator_"
   ]
  },
  {
   "cell_type": "code",
   "execution_count": 86,
   "metadata": {
    "id": "YfVqARYxTmsH",
    "outputId": "d2a124ad-01ba-41c0-d576-288b43fd0fb4"
   },
   "outputs": [
    {
     "name": "stdout",
     "output_type": "stream",
     "text": [
      "Model with rank: 1\n",
      "Mean validation score: -1.603 (std: 0.124)\n",
      "Parameters: {'alpha': 0.021191919191919192}\n",
      "\n",
      "Model with rank: 2\n",
      "Mean validation score: -1.607 (std: 0.123)\n",
      "Parameters: {'alpha': 0.001}\n",
      "\n",
      "Model with rank: 3\n",
      "Mean validation score: -1.610 (std: 0.128)\n",
      "Parameters: {'alpha': 0.041383838383838384}\n",
      "\n",
      "Model with rank: 4\n",
      "Mean validation score: -1.616 (std: 0.129)\n",
      "Parameters: {'alpha': 0.061575757575757575}\n",
      "\n",
      "Model with rank: 5\n",
      "Mean validation score: -1.621 (std: 0.130)\n",
      "Parameters: {'alpha': 0.08176767676767677}\n",
      "\n"
     ]
    }
   ],
   "source": [
    "report(grid_search.cv_results_,5)"
   ]
  },
  {
   "cell_type": "code",
   "execution_count": 87,
   "metadata": {
    "id": "sn8W-7faTmsH"
   },
   "outputs": [],
   "source": [
    "lasso_model=grid_search.best_estimator_"
   ]
  },
  {
   "cell_type": "code",
   "execution_count": 88,
   "metadata": {
    "id": "SQCYk1bTTmsH",
    "outputId": "327871f1-b938-4c02-f511-709ab427ea1a"
   },
   "outputs": [
    {
     "data": {
      "text/plain": [
       "Lasso(alpha=0.021191919191919192)"
      ]
     },
     "execution_count": 88,
     "metadata": {},
     "output_type": "execute_result"
    }
   ],
   "source": [
    "lasso_model.fit(x_train,y_train)"
   ]
  },
  {
   "cell_type": "code",
   "execution_count": 89,
   "metadata": {
    "id": "RBGm_e67TmsI",
    "outputId": "a1841054-eead-447f-c0e1-6b9c0b1713dc"
   },
   "outputs": [
    {
     "data": {
      "text/plain": [
       "[('Amount.Requested', 0.00015960458891473622),\n",
       " ('Debt.To.Income.Ratio', -0.0),\n",
       " ('Monthly.Income', -2.6661231547202244e-05),\n",
       " ('Open.CREDIT.Lines', -0.037596987178248754),\n",
       " ('Revolving.CREDIT.Balance', -3.3296856222834848e-06),\n",
       " ('Inquiries.in.the.Last.6.Months', 0.3280264173078727),\n",
       " ('Employment.Length', 0.010224137952202523),\n",
       " ('fico', -0.08641732308643374),\n",
       " ('loan_period', 3.028377818080134),\n",
       " ('car', 0.0),\n",
       " ('credit_card', -0.22132485805452182),\n",
       " ('debt_consolidation', -0.17928688735905438),\n",
       " ('educational', 0.0),\n",
       " ('home_improvement', -0.0),\n",
       " ('house', 0.0),\n",
       " ('major_purchase', 0.0),\n",
       " ('medical', -0.0),\n",
       " ('moving', 0.0),\n",
       " ('other', 0.3112049875106013),\n",
       " ('renewable_energy', 0.0),\n",
       " ('small_business', 0.0),\n",
       " ('vacation', 0.0),\n",
       " ('wedding', -0.0),\n",
       " ('MORTGAGE', -0.15480093600457856),\n",
       " ('OWN', 0.0),\n",
       " ('RENT', 0.0)]"
      ]
     },
     "execution_count": 89,
     "metadata": {},
     "output_type": "execute_result"
    }
   ],
   "source": [
    "list(zip(x_train.columns,lasso_model.coef_))"
   ]
  }
 ],
 "metadata": {
  "colab": {
   "collapsed_sections": [
    "6mdDmOSoTmsC",
    "LnXywHjQTmsE",
    "G6p7TjLLTmsF",
    "lhCvw_HKTmsI"
   ],
   "name": "Linear Models.ipynb",
   "provenance": []
  },
  "kernelspec": {
   "display_name": "Python 3",
   "language": "python",
   "name": "python3"
  },
  "language_info": {
   "codemirror_mode": {
    "name": "ipython",
    "version": 3
   },
   "file_extension": ".py",
   "mimetype": "text/x-python",
   "name": "python",
   "nbconvert_exporter": "python",
   "pygments_lexer": "ipython3",
   "version": "3.8.5"
  }
 },
 "nbformat": 4,
 "nbformat_minor": 1
}
